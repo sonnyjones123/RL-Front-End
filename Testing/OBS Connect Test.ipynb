{
 "cells": [
  {
   "cell_type": "code",
   "execution_count": 1,
   "metadata": {},
   "outputs": [],
   "source": [
    "import websocket\n",
    "import threading\n",
    "import json"
   ]
  },
  {
   "cell_type": "code",
   "execution_count": 2,
   "metadata": {},
   "outputs": [],
   "source": [
    "# Define the WebSocket server URL (replace with your server address)\n",
    "websocket_url = \"ws://10.46.6.53:10005\"  # Replace with your server address\n",
    "\n",
    "ws = websocket.WebSocket()\n",
    "ws.connect(websocket_url)"
   ]
  },
  {
   "cell_type": "code",
   "execution_count": 3,
   "metadata": {},
   "outputs": [
    {
     "ename": "TypeError",
     "evalue": "dump() missing 1 required positional argument: 'fp'",
     "output_type": "error",
     "traceback": [
      "\u001b[1;31m---------------------------------------------------------------------------\u001b[0m",
      "\u001b[1;31mTypeError\u001b[0m                                 Traceback (most recent call last)",
      "\u001b[1;32mc:\\Users\\sonny\\Box\\NeuroRoboticsLab\\NERVES Lab\\Project Groups\\ML Gait\\Software\\OBS Connect Test.ipynb Cell 3\u001b[0m line \u001b[0;36m3\n\u001b[0;32m      <a href='vscode-notebook-cell:/c%3A/Users/sonny/Box/NeuroRoboticsLab/NERVES%20Lab/Project%20Groups/ML%20Gait/Software/OBS%20Connect%20Test.ipynb#W2sZmlsZQ%3D%3D?line=0'>1</a>\u001b[0m \u001b[39m# requestPayload = {'op':1, 'd':{{\"requestType\":'StartRecording'}}}\u001b[39;00m\n\u001b[1;32m----> <a href='vscode-notebook-cell:/c%3A/Users/sonny/Box/NeuroRoboticsLab/NERVES%20Lab/Project%20Groups/ML%20Gait/Software/OBS%20Connect%20Test.ipynb#W2sZmlsZQ%3D%3D?line=2'>3</a>\u001b[0m message \u001b[39m=\u001b[39m json\u001b[39m.\u001b[39;49mdump({\u001b[39m\"\u001b[39;49m\u001b[39mrequest-type\u001b[39;49m\u001b[39m\"\u001b[39;49m:\u001b[39m\"\u001b[39;49m\u001b[39mStartRecording\u001b[39;49m\u001b[39m\"\u001b[39;49m})\n\u001b[0;32m      <a href='vscode-notebook-cell:/c%3A/Users/sonny/Box/NeuroRoboticsLab/NERVES%20Lab/Project%20Groups/ML%20Gait/Software/OBS%20Connect%20Test.ipynb#W2sZmlsZQ%3D%3D?line=3'>4</a>\u001b[0m ws\u001b[39m.\u001b[39msend(message)\n",
      "\u001b[1;31mTypeError\u001b[0m: dump() missing 1 required positional argument: 'fp'"
     ]
    }
   ],
   "source": [
    "# requestPayload = {'op':1, 'd':{{\"requestType\":'StartRecording'}}}\n",
    "\n",
    "message = json.dumps({\"request-type\":\"StartRecording\"})\n",
    "ws.send(message)"
   ]
  }
 ],
 "metadata": {
  "kernelspec": {
   "display_name": "Python 3",
   "language": "python",
   "name": "python3"
  },
  "language_info": {
   "codemirror_mode": {
    "name": "ipython",
    "version": 3
   },
   "file_extension": ".py",
   "mimetype": "text/x-python",
   "name": "python",
   "nbconvert_exporter": "python",
   "pygments_lexer": "ipython3",
   "version": "3.9.5"
  }
 },
 "nbformat": 4,
 "nbformat_minor": 2
}
