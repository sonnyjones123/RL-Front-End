{
 "cells": [
  {
   "cell_type": "code",
   "execution_count": 1,
   "metadata": {},
   "outputs": [],
   "source": [
    "import h5py\n",
    "import matplotlib.pyplot as plt\n",
    "import numpy as np\n",
    "from EMG_Step_Extr_Pipeline import EMGProcessor\n",
    "import pandas as pd\n",
    "\n",
    "from Data_Segmentation import Data_Segmentor\n",
    "from Step_Extraction_Stats import Step_Extraction_Stats\n",
    "import math\n",
    "from datetime import datetime\n"
   ]
  },
  {
   "cell_type": "code",
   "execution_count": 2,
   "metadata": {},
   "outputs": [],
   "source": [
    "defaultDelsysAttachments = ['TAL', 'TAR', 'LGL', 'LGR', 'VLL', 'VLR', 'BFL', 'BFR','None', 'None', 'None', 'None', 'None', 'LK', 'RK']\n",
    "#Trials 1-2 are test trials\n",
    "# Trials 4-7 are real trials\n",
    "# Trial 6 is a dud\n",
    "Trial4File = h5py.File(\"Trial 4.h5\")\n",
    "Trial5File = h5py.File(\"Trial 5.h5\")\n",
    "Trial6File = h5py.File(\"Trial 6.h5\")\n",
    "Trial7File = h5py.File(\"Trial 7.h5\")\n",
    "\n"
   ]
  },
  {
   "cell_type": "code",
   "execution_count": 3,
   "metadata": {},
   "outputs": [
    {
     "data": {
      "text/plain": [
       "296.2962962962963"
      ]
     },
     "execution_count": 3,
     "metadata": {},
     "output_type": "execute_result"
    }
   ],
   "source": [
    "Trial4File[\"Sensor 14/Analog 1\"].attrs[\"SampleRate\"]"
   ]
  },
  {
   "cell_type": "code",
   "execution_count": 3,
   "metadata": {},
   "outputs": [],
   "source": [
    "# Data Segmentation for Trial 4\n",
    "dataSegmTrial4 = Data_Segmentor()\n",
    "\n",
    "dataSegmTrial4.parseData(Trial4File)\n",
    "\n",
    "dataSegmTrial4.filt_rect_smooth_EMG()\n",
    "\n",
    "rawEMGdf4 = dataSegmTrial4.getEMGData()\n",
    "filtEMGdf4 = dataSegmTrial4.get_filt_rect_smooth_emg()\n",
    "\n",
    "dataSegmTrial4.bin_pressure_data()\n",
    "binnedPressData4 = dataSegmTrial4.get_binned_pressure_data()"
   ]
  },
  {
   "cell_type": "code",
   "execution_count": 4,
   "metadata": {},
   "outputs": [],
   "source": [
    "# Data Segmentation for Trial 5\n",
    "dataSegmTrial5 = Data_Segmentor()\n",
    "\n",
    "dataSegmTrial5.parseData(Trial5File)\n",
    "\n",
    "dataSegmTrial5.filt_rect_smooth_EMG()\n",
    "\n",
    "rawEMGdf5 = dataSegmTrial5.getEMGData()\n",
    "filtEMGdf5 = dataSegmTrial5.get_filt_rect_smooth_emg()\n",
    "\n",
    "dataSegmTrial5.bin_pressure_data()\n",
    "binnedPressData5 = dataSegmTrial5.get_binned_pressure_data()"
   ]
  },
  {
   "cell_type": "code",
   "execution_count": 5,
   "metadata": {},
   "outputs": [],
   "source": [
    "# Data Segmentation for Trial 7\n",
    "dataSegmTrial7 = Data_Segmentor()\n",
    "\n",
    "dataSegmTrial7.parseData(Trial7File)\n",
    "\n",
    "dataSegmTrial7.filt_rect_smooth_EMG()\n",
    "\n",
    "rawEMGdf7 = dataSegmTrial7.getEMGData()\n",
    "filtEMGdf7 = dataSegmTrial7.get_filt_rect_smooth_emg()\n",
    "\n",
    "dataSegmTrial7.bin_pressure_data()\n",
    "binnedPressData7 = dataSegmTrial7.get_binned_pressure_data()\n",
    "\n",
    "rawGonDf4 = dataSegmTrial4.getGonData()\n"
   ]
  },
  {
   "cell_type": "markdown",
   "metadata": {},
   "source": [
    "# Extracting All Transition Time Stamps for Each Trial"
   ]
  },
  {
   "cell_type": "code",
   "execution_count": 6,
   "metadata": {},
   "outputs": [],
   "source": [
    "trial4Transitions = [datetime.fromtimestamp(Trial4File.attrs[\"startTime\"]), datetime.fromtimestamp(1710876473.60037), datetime.fromtimestamp(1710876484.905785), \n",
    "                     datetime.fromtimestamp(1710876494.747219), datetime.fromtimestamp(1710876501.706223), datetime.fromtimestamp(1710876515.63894), datetime.fromtimestamp(Trial4File.attrs[\"stopTime\"])]\n",
    "\n",
    "trial5Transitions = [datetime.fromtimestamp(Trial5File.attrs[\"startTime\"]), datetime.fromtimestamp(1710876568.206406), datetime.fromtimestamp(1710876581.310392), \n",
    "                     datetime.fromtimestamp(1710876589.748959), datetime.fromtimestamp(1710876597.072555), datetime.fromtimestamp(1710876610.109591), datetime.fromtimestamp(Trial5File.attrs[\"stopTime\"])]\n",
    "\n",
    "trial7Transitions = [datetime.fromtimestamp(Trial7File.attrs[\"startTime\"]), datetime.fromtimestamp(1710876906.509646), datetime.fromtimestamp(1710876918.805888), \n",
    "                     datetime.fromtimestamp(1710876927.801345), datetime.fromtimestamp(1710876935.719349), datetime.fromtimestamp(1710876948.398316), datetime.fromtimestamp(Trial7File.attrs[\"stopTime\"])]"
   ]
  },
  {
   "cell_type": "code",
   "execution_count": 7,
   "metadata": {},
   "outputs": [
    {
     "data": {
      "text/plain": [
       "{'trial4': [9, 20, 30, 37, 51, 65],\n",
       " 'trial5': [8, 21, 30, 37, 50, 62],\n",
       " 'trial7': [9, 21, 30, 38, 51, 61]}"
      ]
     },
     "execution_count": 7,
     "metadata": {},
     "output_type": "execute_result"
    }
   ],
   "source": [
    "secTimeDiffDict = {}\n",
    "\n",
    "transArr = [trial4Transitions, trial5Transitions, trial7Transitions]\n",
    "nameArr = [\"trial4\", \"trial5\", \"trial7\"]\n",
    "iterator = 0\n",
    "\n",
    "# Extracting the time difference in seconds \n",
    "for arr in transArr:\n",
    "    secTimeDiffDict[nameArr[iterator]] = []\n",
    "    for x in range(len(arr) - 1):\n",
    "        timedelta = arr[x + 1] - arr[0]\n",
    "        # Return the total time difference in seconds\n",
    "        \n",
    "        secTimeDiffDict[nameArr[iterator]].append(timedelta.days * 24 * 3600 + timedelta.seconds)\n",
    "\n",
    "    iterator += 1\n",
    "\n",
    "\n",
    "secTimeDiffDict"
   ]
  },
  {
   "cell_type": "code",
   "execution_count": 8,
   "metadata": {},
   "outputs": [
    {
     "data": {
      "text/plain": [
       "{'trial4': [17334, 38520, 57780, 71262, 98226, 125190],\n",
       " 'trial5': [15408, 40446, 57780, 71262, 96300, 119412],\n",
       " 'trial7': [17334, 40446, 57780, 73188, 98226, 117486]}"
      ]
     },
     "execution_count": 8,
     "metadata": {},
     "output_type": "execute_result"
    }
   ],
   "source": [
    "emgSampleRate = Trial4File[\"Sensor 1/EMG 1\"].attrs[\"SampleRate\"]\n",
    "emgSampleRate = np.round(emgSampleRate).astype(int)\n",
    "\n",
    "emgSampleRate\n",
    "\n",
    "# Changing all second timestamps to emg data indexes\n",
    "for key in secTimeDiffDict.keys():\n",
    "    arr = secTimeDiffDict[key]\n",
    "    for x in range(len(arr)):\n",
    "        arr[x] *= emgSampleRate\n",
    "        \n",
    "    secTimeDiffDict[key] = arr\n",
    "\n",
    "secTimeDiffDict"
   ]
  },
  {
   "cell_type": "markdown",
   "metadata": {},
   "source": [
    "# Extracting EMG Data Based Upon Time Diff Indexes"
   ]
  },
  {
   "cell_type": "code",
   "execution_count": 13,
   "metadata": {},
   "outputs": [
    {
     "data": {
      "text/plain": [
       "dict_keys(['flat1', 'uneven1', 'upstairs', 'downstairs', 'uneven2', 'flat2'])"
      ]
     },
     "execution_count": 13,
     "metadata": {},
     "output_type": "execute_result"
    }
   ],
   "source": [
    "terrains = [\"flat1\", \"uneven1\", \"upstairs\", \"downstairs\", \"uneven2\", \"flat2\"]\n",
    "\n",
    "outputDict = {}\n",
    "inputDict = secTimeDiffDict\n",
    "inputDf = filtEMGdf4\n",
    "inputTransInds = secTimeDiffDict[\"trial4\"]\n",
    "\n",
    "# \n",
    "for x in range(len(terrains)):\n",
    "    # Getting flat terrain data at the end of the trial\n",
    "    if (x == len(terrains) - 1):\n",
    "        outputDict[terrains[x]] = inputDf.iloc[inputTransInds[x - 1]:len(inputDf)]\n",
    "        outputDict[terrains[x]].index = np.arange(len(outputDict[terrains[x]]))\n",
    "\n",
    "    # Getting flat terrains data from the beginning of the trial\n",
    "    elif (x == 0):\n",
    "        outputDict[terrains[x]] = inputDf.iloc[0:inputTransInds[x]]\n",
    "        outputDict[terrains[x]].index = np.arange(len(outputDict[terrains[x]]))\n",
    "\n",
    "    else:\n",
    "        outputDict[terrains[x]] = inputDf.iloc[inputTransInds[x-1]:inputTransInds[x]]\n",
    "        outputDict[terrains[x]].index = np.arange(len(outputDict[terrains[x]]))\n",
    "\n",
    "outputDict.keys()\n"
   ]
  },
  {
   "cell_type": "code",
   "execution_count": 14,
   "metadata": {},
   "outputs": [],
   "source": [
    "# Saving the parsed data\n",
    "trialName = \"trial4\"\n",
    "for key in outputDict.keys():\n",
    "    saveName = trialName + \"_\" + key + \"_\" + \"emg\" + \".csv\"\n",
    "    outputDict[key].to_csv(saveName, index = False)\n"
   ]
  },
  {
   "cell_type": "markdown",
   "metadata": {},
   "source": [
    "# Extracting XSensor Data for Each Terrain"
   ]
  },
  {
   "cell_type": "code",
   "execution_count": 15,
   "metadata": {},
   "outputs": [
    {
     "data": {
      "text/plain": [
       "{'trial4': [56, 125, 188, 231, 319, 406],\n",
       " 'trial5': [50, 131, 188, 231, 313, 388],\n",
       " 'trial7': [56, 131, 188, 238, 319, 381]}"
      ]
     },
     "execution_count": 15,
     "metadata": {},
     "output_type": "execute_result"
    }
   ],
   "source": [
    "# Have to use sampleRatio to remap the indices since the XSensor doesn't seem to actually be sampling at 10 Hz\n",
    "sampleRatio = len(binnedPressData4) / len(rawEMGdf4)\n",
    "\n",
    "pressIndDict = {}\n",
    "\n",
    "# Changing all second timestamps to emg data indexes\n",
    "for key in secTimeDiffDict.keys():\n",
    "    arr = secTimeDiffDict[key]\n",
    "    for x in range(len(arr)):\n",
    "        val = arr[x] *sampleRatio\n",
    "        arr[x] = np.round(val).astype(int)\n",
    "        \n",
    "    pressIndDict[key] = arr\n",
    "\n",
    "pressIndDict"
   ]
  },
  {
   "cell_type": "code",
   "execution_count": 20,
   "metadata": {},
   "outputs": [
    {
     "data": {
      "text/plain": [
       "dict_keys(['flat1', 'uneven1', 'upstairs', 'downstairs', 'uneven2', 'flat2'])"
      ]
     },
     "execution_count": 20,
     "metadata": {},
     "output_type": "execute_result"
    }
   ],
   "source": [
    "terrains = [\"flat1\", \"uneven1\", \"upstairs\", \"downstairs\", \"uneven2\", \"flat2\"]\n",
    "\n",
    "outputDict = {}\n",
    "inputDf = binnedPressData7\n",
    "inputTransInds = pressIndDict[\"trial7\"]\n",
    "\n",
    "# \n",
    "for x in range(len(terrains)):\n",
    "    # Getting flat terrain data at the end of the trial\n",
    "    if (x == len(terrains) - 1):\n",
    "        outputDict[terrains[x]] = inputDf.iloc[inputTransInds[x - 1]:len(inputDf)]\n",
    "        outputDict[terrains[x]].index = np.arange(len(outputDict[terrains[x]]))\n",
    "\n",
    "    # Getting flat terrains data from the beginning of the trial\n",
    "    elif (x == 0):\n",
    "        outputDict[terrains[x]] = inputDf.iloc[0:inputTransInds[x]]\n",
    "        outputDict[terrains[x]].index = np.arange(len(outputDict[terrains[x]]))\n",
    "\n",
    "    else:\n",
    "        outputDict[terrains[x]] = inputDf.iloc[inputTransInds[x-1]:inputTransInds[x]]\n",
    "        outputDict[terrains[x]].index = np.arange(len(outputDict[terrains[x]]))\n",
    "\n",
    "outputDict.keys()"
   ]
  },
  {
   "cell_type": "code",
   "execution_count": 21,
   "metadata": {},
   "outputs": [],
   "source": [
    "# Saving the parsed data\n",
    "trialName = \"trial7\"\n",
    "for key in outputDict.keys():\n",
    "    saveName = trialName + \"_\" + key + \"_\" + \"press\" + \".csv\"\n",
    "    outputDict[key].to_csv(saveName, index = False)"
   ]
  },
  {
   "cell_type": "code",
   "execution_count": 107,
   "metadata": {},
   "outputs": [
    {
     "name": "stdout",
     "output_type": "stream",
     "text": [
      "0.0032460099424385137\n"
     ]
    },
    {
     "data": {
      "text/plain": [
       "0.005192107995846314"
      ]
     },
     "execution_count": 107,
     "metadata": {},
     "output_type": "execute_result"
    }
   ],
   "source": [
    "print(sampleRatio)\n",
    "10/1926"
   ]
  }
 ],
 "metadata": {
  "kernelspec": {
   "display_name": "my_env",
   "language": "python",
   "name": "python3"
  },
  "language_info": {
   "codemirror_mode": {
    "name": "ipython",
    "version": 3
   },
   "file_extension": ".py",
   "mimetype": "text/x-python",
   "name": "python",
   "nbconvert_exporter": "python",
   "pygments_lexer": "ipython3",
   "version": "3.12.1"
  }
 },
 "nbformat": 4,
 "nbformat_minor": 2
}
