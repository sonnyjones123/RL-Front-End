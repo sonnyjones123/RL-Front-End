{
 "cells": [
  {
   "cell_type": "code",
   "execution_count": 2,
   "metadata": {},
   "outputs": [],
   "source": [
    "from DataFileHandler import *\n",
    "import numpy as np\n",
    "import h5py\n",
    "import os\n",
    "import matplotlib.pyplot as plt\n",
    "from IPython.display import display, clear_output\n",
    "from datetime import datetime\n",
    "import time"
   ]
  },
  {
   "cell_type": "code",
   "execution_count": 16,
   "metadata": {},
   "outputs": [
    {
     "data": {
      "text/plain": [
       "['2024-01-11T15:08:44.992983']"
      ]
     },
     "execution_count": 16,
     "metadata": {},
     "output_type": "execute_result"
    }
   ],
   "source": [
    "testDate = datetime.now()\n",
    "testArr = np.array(0)\n",
    "testArr = [testDate.isoformat()]\n",
    "testArr"
   ]
  },
  {
   "cell_type": "code",
   "execution_count": 13,
   "metadata": {},
   "outputs": [
    {
     "name": "stdout",
     "output_type": "stream",
     "text": [
      "C:/Users/Purkinje/Box/NeuroRoboticsLab/NERVES Lab/Project Groups/ML Gait/Experimental Data/Jan11Test\\Trial 4.h5\n"
     ]
    }
   ],
   "source": [
    "filepath = 'C:/Users/Purkinje/Box/NeuroRoboticsLab/NERVES Lab/Project Groups/ML Gait/Experimental Data/Jan11Test'\n",
    "filename = 'Trial 4.h5'\n",
    "\n",
    "completeFilePath = os.path.join(filepath, filename)\n",
    "if not os.path.exists(filepath):\n",
    "    os.makedirs(filepath)\n",
    "\n",
    "hdf5File = h5py.File(completeFilePath, 'a')\n",
    "\n",
    "print(completeFilePath)"
   ]
  },
  {
   "cell_type": "code",
   "execution_count": 16,
   "metadata": {},
   "outputs": [
    {
     "name": "stdout",
     "output_type": "stream",
     "text": [
      "<KeysViewHDF5 ['Foot 0', 'Foot 1', 'Sensor 0']>\n",
      "2024-01-11 16:23:44\n"
     ]
    },
    {
     "name": "stderr",
     "output_type": "stream",
     "text": [
      "C:\\Users\\Purkinje\\AppData\\Local\\Temp\\ipykernel_12196\\1563003823.py:4: DeprecationWarning: an integer is required (got type numpy.float32).  Implicit conversion to integers using __int__ is deprecated, and may be removed in a future version of Python.\n",
      "  print(datetime.fromtimestamp(dataset[0]))\n"
     ]
    }
   ],
   "source": [
    "print(hdf5File.keys())\n",
    "\n",
    "dataset = hdf5File['Sensor 0/StartTime'][:]\n",
    "print(datetime.fromtimestamp(dataset[0]))\n"
   ]
  },
  {
   "cell_type": "code",
   "execution_count": 17,
   "metadata": {},
   "outputs": [
    {
     "ename": "",
     "evalue": "",
     "output_type": "error",
     "traceback": [
      "\u001b[1;31mThe Kernel crashed while executing code in the the current cell or a previous cell. Please review the code in the cell(s) to identify a possible cause of the failure. Click <a href='https://aka.ms/vscodeJupyterKernelCrash'>here</a> for more info. View Jupyter <a href='command:jupyter.viewOutput'>log</a> for further details."
     ]
    }
   ],
   "source": [
    "hdf5File.close()"
   ]
  },
  {
   "cell_type": "code",
   "execution_count": 4,
   "metadata": {},
   "outputs": [
    {
     "name": "stdout",
     "output_type": "stream",
     "text": [
      "C:/Users/Purkinje/Box/NeuroRoboticsLab/NERVES Lab/Project Groups/ML Gait/Experimental Data/Jan9XSensor\\Trial 2.h5\n"
     ]
    }
   ],
   "source": [
    "filepath = 'C:/Users/Purkinje/Box/NeuroRoboticsLab/NERVES Lab/Project Groups/ML Gait/Experimental Data/Jan9XSensor'\n",
    "filename = 'Trial 2.h5'\n",
    "\n",
    "completeFilePath = os.path.join(filepath, filename)\n",
    "if not os.path.exists(filepath):\n",
    "    os.makedirs(filepath)\n",
    "\n",
    "hdf5File = h5py.File(completeFilePath, 'a')\n",
    "\n",
    "print(completeFilePath)\n",
    "#hdf5File = h5py.File(completeFilePath, 'a')\n",
    "#hdf5File.close()"
   ]
  },
  {
   "cell_type": "code",
   "execution_count": 5,
   "metadata": {},
   "outputs": [],
   "source": [
    "right_foot_dataset = hdf5File['Foot 1/Pressure']\n",
    "left_foot_dataset = hdf5File['Foot 0/Pressure']\n",
    "\n",
    "# Read existing data from the dataset\n",
    "existing_data_right = right_foot_dataset[:]\n",
    "existing_data_left = left_foot_dataset[:]\n",
    "\n",
    "footsteps_data_right = existing_data_right.reshape((481, 341))\n",
    "footsteps_data_left = existing_data_left.reshape((481, 341))\n"
   ]
  },
  {
   "cell_type": "code",
   "execution_count": 6,
   "metadata": {},
   "outputs": [
    {
     "data": {
      "text/plain": [
       "<Figure size 640x480 with 0 Axes>"
      ]
     },
     "metadata": {},
     "output_type": "display_data"
    },
    {
     "data": {
      "image/png": "[encoded data removed]",
      "text/plain": [
       "<Figure size 640x480 with 1 Axes>"
      ]
     },
     "metadata": {},
     "output_type": "display_data"
    },
    {
     "ename": "KeyboardInterrupt",
     "evalue": "",
     "output_type": "error",
     "traceback": [
      "\u001b[1;31m---------------------------------------------------------------------------\u001b[0m",
      "\u001b[1;31mKeyboardInterrupt\u001b[0m                         Traceback (most recent call last)",
      "Cell \u001b[1;32mIn[6], line 5\u001b[0m\n\u001b[0;32m      3\u001b[0m y \u001b[38;5;241m=\u001b[39m footsteps_data_left[i]\u001b[38;5;241m.\u001b[39mreshape(\u001b[38;5;241m31\u001b[39m, \u001b[38;5;241m11\u001b[39m)\n\u001b[0;32m      4\u001b[0m plt\u001b[38;5;241m.\u001b[39mimshow(y, cmap\u001b[38;5;241m=\u001b[39m\u001b[38;5;124m'\u001b[39m\u001b[38;5;124mhot\u001b[39m\u001b[38;5;124m'\u001b[39m, interpolation\u001b[38;5;241m=\u001b[39m\u001b[38;5;124m'\u001b[39m\u001b[38;5;124mnearest\u001b[39m\u001b[38;5;124m'\u001b[39m)\n\u001b[1;32m----> 5\u001b[0m \u001b[43mplt\u001b[49m\u001b[38;5;241;43m.\u001b[39;49m\u001b[43mpause\u001b[49m\u001b[43m(\u001b[49m\u001b[38;5;241;43m0.15\u001b[39;49m\u001b[43m)\u001b[49m\n\u001b[0;32m      6\u001b[0m clear_output(wait\u001b[38;5;241m=\u001b[39m\u001b[38;5;28;01mTrue\u001b[39;00m)  \u001b[38;5;66;03m# Clear the previous plot output\u001b[39;00m\n\u001b[0;32m      7\u001b[0m display(plt\u001b[38;5;241m.\u001b[39mgcf())  \u001b[38;5;66;03m# Display the updated plot\u001b[39;00m\n",
      "File \u001b[1;32mc:\\Users\\Purkinje\\AppData\\Local\\Programs\\Python\\Python38\\lib\\site-packages\\matplotlib\\pyplot.py:582\u001b[0m, in \u001b[0;36mpause\u001b[1;34m(interval)\u001b[0m\n\u001b[0;32m    580\u001b[0m         canvas\u001b[38;5;241m.\u001b[39mdraw_idle()\n\u001b[0;32m    581\u001b[0m     show(block\u001b[38;5;241m=\u001b[39m\u001b[38;5;28;01mFalse\u001b[39;00m)\n\u001b[1;32m--> 582\u001b[0m     \u001b[43mcanvas\u001b[49m\u001b[38;5;241;43m.\u001b[39;49m\u001b[43mstart_event_loop\u001b[49m\u001b[43m(\u001b[49m\u001b[43minterval\u001b[49m\u001b[43m)\u001b[49m\n\u001b[0;32m    583\u001b[0m \u001b[38;5;28;01melse\u001b[39;00m:\n\u001b[0;32m    584\u001b[0m     time\u001b[38;5;241m.\u001b[39msleep(interval)\n",
      "File \u001b[1;32mc:\\Users\\Purkinje\\AppData\\Local\\Programs\\Python\\Python38\\lib\\site-packages\\matplotlib\\backend_bases.py:2553\u001b[0m, in \u001b[0;36mFigureCanvasBase.start_event_loop\u001b[1;34m(self, timeout)\u001b[0m\n\u001b[0;32m   2551\u001b[0m \u001b[38;5;28;01mwhile\u001b[39;00m \u001b[38;5;28mself\u001b[39m\u001b[38;5;241m.\u001b[39m_looping \u001b[38;5;129;01mand\u001b[39;00m counter \u001b[38;5;241m*\u001b[39m timestep \u001b[38;5;241m<\u001b[39m timeout:\n\u001b[0;32m   2552\u001b[0m     \u001b[38;5;28mself\u001b[39m\u001b[38;5;241m.\u001b[39mflush_events()\n\u001b[1;32m-> 2553\u001b[0m     \u001b[43mtime\u001b[49m\u001b[38;5;241;43m.\u001b[39;49m\u001b[43msleep\u001b[49m\u001b[43m(\u001b[49m\u001b[43mtimestep\u001b[49m\u001b[43m)\u001b[49m\n\u001b[0;32m   2554\u001b[0m     counter \u001b[38;5;241m+\u001b[39m\u001b[38;5;241m=\u001b[39m \u001b[38;5;241m1\u001b[39m\n",
      "\u001b[1;31mKeyboardInterrupt\u001b[0m: "
     ]
    }
   ],
   "source": [
    "# Iterating through all of the left foot data to visualize\n",
    "for i in range(481):\n",
    "    y = footsteps_data_left[i].reshape(31, 11)\n",
    "    plt.imshow(y, cmap='hot', interpolation='nearest')\n",
    "    plt.pause(0.15)\n",
    "    clear_output(wait=True)  # Clear the previous plot output\n",
    "    display(plt.gcf())  # Display the updated plot\n",
    "\n",
    "plt.show()"
   ]
  },
  {
   "cell_type": "code",
   "execution_count": 7,
   "metadata": {},
   "outputs": [],
   "source": [
    "hdf5File.close()"
   ]
  },
  {
   "cell_type": "code",
   "execution_count": 3,
   "metadata": {},
   "outputs": [
    {
     "data": {
      "text/plain": [
       "{}"
      ]
     },
     "execution_count": 3,
     "metadata": {},
     "output_type": "execute_result"
    }
   ],
   "source": [
    "x = 0\n",
    "test_dict = {}\n",
    "while x < 2:\n",
    "    test_dict[x] = {}\n",
    "    x = x +1\n",
    "\n",
    "test_dict[0]"
   ]
  },
  {
   "cell_type": "code",
   "execution_count": 8,
   "metadata": {},
   "outputs": [
    {
     "name": "stdout",
     "output_type": "stream",
     "text": [
      "C:/Users/Purkinje/Box/NeuroRoboticsLab/NERVES Lab/Project Groups/ML Gait/Experimental Data/TestJan8\\Trial 2.h5\n"
     ]
    }
   ],
   "source": [
    "filepath = \"C:/Users/Purkinje/Box/NeuroRoboticsLab/NERVES Lab/Project Groups/ML Gait/Experimental Data/TestJan8\"\n",
    "filename = 'Trial 2.h5'\n",
    "\n",
    "completeFilePath = os.path.join(filepath, filename)\n",
    "if not os.path.exists(filepath):\n",
    "    os.makedirs(filepath)\n",
    "print(completeFilePath)\n",
    "hdf5File = h5py.File(completeFilePath, 'a')\n",
    "\n",
    "#"
   ]
  },
  {
   "cell_type": "code",
   "execution_count": 13,
   "metadata": {},
   "outputs": [
    {
     "data": {
      "text/plain": [
       "<Attributes of HDF5 object at 1876130559296>"
      ]
     },
     "execution_count": 13,
     "metadata": {},
     "output_type": "execute_result"
    }
   ],
   "source": [
    "hdf5File['Foot 0'].attrs"
   ]
  },
  {
   "cell_type": "code",
   "execution_count": 14,
   "metadata": {},
   "outputs": [],
   "source": [
    "hdf5File.close()"
   ]
  },
  {
   "cell_type": "code",
   "execution_count": null,
   "metadata": {},
   "outputs": [],
   "source": []
  },
  {
   "cell_type": "code",
   "execution_count": 2,
   "metadata": {},
   "outputs": [],
   "source": [
    "# Groups, datasets, data\n",
    "testDictDelsys = {'Sensor 1' : {'Channels' : ['EMG', 'GYRO'], 'SampleRates' : [2, 3], 'Attachment' : 'Bicep'},\n",
    "            'Sensor 2' : {'Channels' : ['EKG', 'GYRO'], 'SampleRates' : [3, 6], 'Attachment' : 'Tricep'}}\n",
    "\n",
    "testDictXSensor = {'Foot 1' : {'Channels' : ['EMG'], 'SampleRates' : [2], 'Foot' : ['Right']},\n",
    "            'Foot 2' : {'Channels' : ['EKG'], 'SampleRates' : [3], 'Foot' : ['Left']}}"
   ]
  },
  {
   "cell_type": "code",
   "execution_count": null,
   "metadata": {},
   "outputs": [],
   "source": [
    "for key, value in testDictDelsys.items():\n",
    "    print(key)\n",
    "    for i in range(len(value['Channels'])):\n",
    "        print(value['Channels'][i])\n",
    "        print(value['SampleRates'][i])"
   ]
  },
  {
   "cell_type": "code",
   "execution_count": null,
   "metadata": {},
   "outputs": [],
   "source": [
    "testDictDelsys.items()"
   ]
  },
  {
   "cell_type": "code",
   "execution_count": 3,
   "metadata": {},
   "outputs": [],
   "source": [
    "DataFileHandler = DataFileHandler()"
   ]
  },
  {
   "cell_type": "code",
   "execution_count": null,
   "metadata": {},
   "outputs": [],
   "source": [
    "DataFileHandler.createFile('TestingFormat7')"
   ]
  },
  {
   "cell_type": "code",
   "execution_count": 4,
   "metadata": {},
   "outputs": [
    {
     "name": "stdout",
     "output_type": "stream",
     "text": [
      "Sensor 1 {'Channels': ['EMG', 'GYRO'], 'SampleRates': [2, 3], 'Attachment': 'Bicep'}\n",
      "EMG\n",
      "GYRO\n",
      "Sensor 2 {'Channels': ['EKG', 'GYRO'], 'SampleRates': [3, 6], 'Attachment': 'Tricep'}\n",
      "EKG\n",
      "GYRO\n",
      "Foot 1 {'Channels': ['EMG'], 'SampleRates': [2], 'Foot': ['Right']}\n",
      "EMG\n",
      "Foot 2 {'Channels': ['EKG'], 'SampleRates': [3], 'Foot': ['Left']}\n",
      "EKG\n"
     ]
    }
   ],
   "source": [
    "# Formatting File\n",
    "DataFileHandler.formatFile(testDictDelsys, testDictXSensor)"
   ]
  },
  {
   "cell_type": "code",
   "execution_count": null,
   "metadata": {},
   "outputs": [],
   "source": [
    "with h5py.File('TestingFormat2.h5', 'a') as hf:\n",
    "    print(hf.keys())\n",
    "    print(hf['Sensor 1/EMG'])\n",
    "\n",
    "    "
   ]
  },
  {
   "cell_type": "code",
   "execution_count": null,
   "metadata": {},
   "outputs": [],
   "source": [
    "DataFileHandler.hdf5File['Sensor 1'].keys()"
   ]
  },
  {
   "cell_type": "code",
   "execution_count": 1,
   "metadata": {},
   "outputs": [],
   "source": [
    "# Adding data to datasets\n",
    "# Example Data\n",
    "testData = [[1, 2, 3, 4], \n",
    "            [0, 0, 1, 1],\n",
    "            [1, 2, 3, 4],\n",
    "            [0, 0, 1, 1]]"
   ]
  },
  {
   "cell_type": "code",
   "execution_count": 2,
   "metadata": {},
   "outputs": [
    {
     "data": {
      "text/plain": [
       "list"
      ]
     },
     "execution_count": 2,
     "metadata": {},
     "output_type": "execute_result"
    }
   ],
   "source": [
    "type(testData)"
   ]
  },
  {
   "cell_type": "code",
   "execution_count": 6,
   "metadata": {},
   "outputs": [
    {
     "name": "stdout",
     "output_type": "stream",
     "text": [
      "{'Sensor 1': {'Channels': ['EMG', 'GYRO'], 'SampleRates': [2, 3], 'Attachment': 'Bicep'}, 'Sensor 2': {'Channels': ['EKG', 'GYRO'], 'SampleRates': [3, 6], 'Attachment': 'Tricep'}}\n",
      "Error getting dataset\n",
      "Error getting shape\n",
      "Error resizing\n",
      "Error adding new data\n",
      "Error getting dataset\n",
      "Error getting shape\n",
      "Error resizing\n",
      "Error adding new data\n",
      "Error getting dataset\n",
      "Error getting shape\n",
      "Error resizing\n",
      "Error adding new data\n",
      "Error getting dataset\n",
      "Error getting shape\n",
      "Error resizing\n",
      "Error adding new data\n"
     ]
    }
   ],
   "source": [
    "# Saving Data to Delsys\n",
    "DataFileHandler.saveDelsysData(testData)"
   ]
  },
  {
   "cell_type": "code",
   "execution_count": 7,
   "metadata": {},
   "outputs": [
    {
     "data": {
      "text/plain": [
       "<KeysViewHDF5 ['Foot 1', 'Foot 2', 'Sensor 1', 'Sensor 2']>"
      ]
     },
     "execution_count": 7,
     "metadata": {},
     "output_type": "execute_result"
    }
   ],
   "source": [
    "DataFileHandler.hdf5File.keys()"
   ]
  },
  {
   "cell_type": "code",
   "execution_count": 8,
   "metadata": {},
   "outputs": [
    {
     "data": {
      "text/plain": [
       "<HDF5 dataset \"EMG\": shape (4,), type \"<f4\">"
      ]
     },
     "execution_count": 8,
     "metadata": {},
     "output_type": "execute_result"
    }
   ],
   "source": [
    "DataFileHandler.hdf5File['Sensor 1']['EMG']"
   ]
  },
  {
   "cell_type": "code",
   "execution_count": 9,
   "metadata": {},
   "outputs": [],
   "source": [
    "DataFileHandler.closeFile()"
   ]
  },
  {
   "cell_type": "code",
   "execution_count": null,
   "metadata": {},
   "outputs": [],
   "source": [
    "dataset = DataFileHandler.hdf5File['Sensor 1/EMG']  # Access 'dataset1' in 'group1'\n",
    "\n",
    "# Read existing data from the dataset\n",
    "existing_data = dataset[:]\n",
    "print(existing_data)\n",
    "\n",
    "# Generate new data to add\n",
    "new_data = np.array([10, 20, 30])\n",
    "\n",
    "# Concatenate existing data with new data\n",
    "updated_data = np.concatenate((existing_data, new_data))\n",
    "print(updated_data)\n",
    "existing_data = updated_data\n",
    "print(existing_data)\n",
    "\n",
    "dataset[...] = existing_data\n",
    "dataset"
   ]
  },
  {
   "cell_type": "code",
   "execution_count": null,
   "metadata": {},
   "outputs": [],
   "source": [
    "# Open the HDF5 file in read/write mode\n",
    "with h5py.File('TestingFormat0.h5', 'a') as hf:\n",
    "    # Access the specific dataset\n",
    "    dataset = hf['Sensor 1/EMG']  # Access 'dataset1' in 'group1'\n",
    "\n",
    "    # Generate new data to replace the existing dataset\n",
    "    new_data = np.array([100, 200, 300])\n",
    "\n",
    "    # Assign new values to the dataset\n",
    "    dataset[...] = new_data\n",
    "\n",
    "    print(dataset)"
   ]
  },
  {
   "cell_type": "code",
   "execution_count": null,
   "metadata": {},
   "outputs": [],
   "source": [
    "import h5py\n",
    "import numpy as np\n",
    "\n",
    "# Create or open an HDF5 file in write mode\n",
    "with h5py.File('multilevel.h5', 'w') as hf:\n",
    "    # Create subgroup 'group1' under the root group '/'\n",
    "    group1 = hf.create_group('group1')\n",
    "\n",
    "    # Create datasets within 'group1'\n",
    "    data1 = np.array([1, 2, 3])\n",
    "    group1.create_dataset('dataset1', data=data1)\n",
    "\n",
    "    data2 = np.array([4, 5, 6])\n",
    "    group1.create_dataset('dataset2', data=data2)\n",
    "\n",
    "    # Create subgroup 'group2' under the root group '/'\n",
    "    group2 = hf.create_group('group2')\n",
    "\n",
    "    # Create datasets within 'group2'\n",
    "    data3 = np.array([7, 8, 9])\n",
    "    group2.create_dataset('dataset3', data=data3)\n",
    "\n",
    "    data4 = np.array([10, 11, 12])\n",
    "    group2.create_dataset('dataset4', data=data4)"
   ]
  },
  {
   "cell_type": "code",
   "execution_count": null,
   "metadata": {},
   "outputs": [],
   "source": [
    "import h5py\n",
    "import numpy as np\n",
    "\n",
    "# Open the HDF5 file in read/write mode\n",
    "with h5py.File('multilevel.h5', 'a') as hf:\n",
    "    # Access the specific dataset\n",
    "    dataset = hf['group1/dataset1']  # Access 'dataset1' in 'group1'\n",
    "\n",
    "    # Generate new data to replace the existing dataset\n",
    "    new_data = np.array([100, 200, 300])\n",
    "\n",
    "    # Assign new values to the dataset\n",
    "    dataset[...] = new_data\n",
    "\n",
    "    print(dataset)"
   ]
  },
  {
   "cell_type": "code",
   "execution_count": null,
   "metadata": {},
   "outputs": [],
   "source": [
    "\n",
    "\n",
    "# Open the HDF5 file in read mode\n",
    "with h5py.File('multilevel.h5', 'r') as hf:\n",
    "    # Accessing groups\n",
    "    print(\"Groups:\")\n",
    "    for group_name in hf:\n",
    "        print(f\"Group: {group_name}\")\n",
    "\n",
    "        # Accessing datasets within each group\n",
    "        group = hf[group_name]\n",
    "        print(f\"Datasets in {group_name}:\")\n",
    "        for dataset_name in group:\n",
    "            print(f\"Dataset: {dataset_name}\")\n",
    "\n",
    "            # Accessing data within datasets\n",
    "            dataset = group[dataset_name]\n",
    "            print(f\"Data in {dataset_name}: {dataset[:]}\")"
   ]
  }
 ],
 "metadata": {
  "kernelspec": {
   "display_name": "Python 3",
   "language": "python",
   "name": "python3"
  },
  "language_info": {
   "codemirror_mode": {
    "name": "ipython",
    "version": 3
   },
   "file_extension": ".py",
   "mimetype": "text/x-python",
   "name": "python",
   "nbconvert_exporter": "python",
   "pygments_lexer": "ipython3",
   "version": "3.8.1"
  }
 },
 "nbformat": 4,
 "nbformat_minor": 2
}
