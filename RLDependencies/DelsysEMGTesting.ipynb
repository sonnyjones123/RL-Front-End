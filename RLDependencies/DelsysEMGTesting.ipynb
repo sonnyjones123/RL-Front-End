{
 "cells": [
  {
   "cell_type": "code",
   "execution_count": 1,
   "metadata": {},
   "outputs": [],
   "source": [
    "from DelsysEMG import *\n",
    "import numpy as np\n",
    "import matplotlib.pyplot as plt"
   ]
  },
  {
   "cell_type": "code",
   "execution_count": 2,
   "metadata": {},
   "outputs": [],
   "source": [
    "DelsysEMG = DelsysEMG()"
   ]
  },
  {
   "cell_type": "code",
   "execution_count": 3,
   "metadata": {},
   "outputs": [
    {
     "name": "stdout",
     "output_type": "stream",
     "text": [
      "Validating TrignoBase connection...\n",
      "TrignoBase Connection Valid\n"
     ]
    }
   ],
   "source": [
    "DelsysEMG.connect()"
   ]
  },
  {
   "cell_type": "code",
   "execution_count": 4,
   "metadata": {},
   "outputs": [
    {
     "name": "stdout",
     "output_type": "stream",
     "text": [
      "Starting Sensor Pairing...\n",
      "Awaiting Sensor Pair Request...\n",
      "Sensor 14 paired\n",
      "------Sensor List-----\n",
      "Sensors Found: 1\n",
      "69657: Right Knee\n"
     ]
    }
   ],
   "source": [
    "DelsysEMG.connectSensors(1)"
   ]
  },
  {
   "cell_type": "code",
   "execution_count": 5,
   "metadata": {},
   "outputs": [
    {
     "name": "stdout",
     "output_type": "stream",
     "text": [
      "Scanning for paired sensors...\n",
      "['75503 (Trigno Avanti)']\n",
      "------Sensor List-----\n",
      "Sensors Found: 1\n",
      "75503: Bicep\n"
     ]
    }
   ],
   "source": [
    "DelsysEMG.scanForSensors()"
   ]
  },
  {
   "cell_type": "code",
   "execution_count": null,
   "metadata": {},
   "outputs": [],
   "source": [
    "DelsysEMG.sensorDict[75503][0] = 0"
   ]
  },
  {
   "cell_type": "code",
   "execution_count": null,
   "metadata": {},
   "outputs": [],
   "source": [
    "DelsysEMG.sensorDict"
   ]
  },
  {
   "cell_type": "code",
   "execution_count": null,
   "metadata": {},
   "outputs": [],
   "source": [
    "print(list(DelsysEMG.TrigBase.GetSensorNames()))"
   ]
  },
  {
   "cell_type": "code",
   "execution_count": 5,
   "metadata": {},
   "outputs": [
    {
     "data": {
      "text/plain": [
       "69657"
      ]
     },
     "execution_count": 5,
     "metadata": {},
     "output_type": "execute_result"
    }
   ],
   "source": [
    "sensorObject = DelsysEMG.TrigBase.GetSensorObject(0)\n",
    "sensorObject.Properties.get_Sid()"
   ]
  },
  {
   "cell_type": "code",
   "execution_count": 6,
   "metadata": {},
   "outputs": [
    {
     "name": "stdout",
     "output_type": "stream",
     "text": [
      "DelsysAPI.Channels.Trigno.ChannelTrignoAnalog\n",
      "DelsysAPI.Channels.Trigno.ChannelTrignoAnalog\n",
      "DelsysAPI.Channels.Trigno.ChannelTrignoAnalog\n",
      "DelsysAPI.Channels.Trigno.ChannelTrignoAnalog\n"
     ]
    },
    {
     "data": {
      "text/plain": [
       "[None, None, None, None]"
      ]
     },
     "execution_count": 6,
     "metadata": {},
     "output_type": "execute_result"
    }
   ],
   "source": [
    "[print(channel) for channel in sensorObject.TrignoChannels]"
   ]
  },
  {
   "cell_type": "code",
   "execution_count": 7,
   "metadata": {},
   "outputs": [
    {
     "name": "stdout",
     "output_type": "stream",
     "text": [
      "Help on ChannelTrignoAnalog object:\n",
      "\n",
      "class ChannelTrignoAnalog(ChannelTrigno)\n",
      " |  Void .ctor()\n",
      " |  \n",
      " |  Method resolution order:\n",
      " |      ChannelTrignoAnalog\n",
      " |      ChannelTrigno\n",
      " |      DelsysAPI.Channels.Channel\n",
      " |      System.Object\n",
      " |      builtins.object\n",
      " |  \n",
      " |  Methods defined here:\n",
      " |  \n",
      " |  __call__(self, /, *args, **kwargs)\n",
      " |      Call self as a function.\n",
      " |  \n",
      " |  __delitem__(self, key, /)\n",
      " |      Delete self[key].\n",
      " |  \n",
      " |  __eq__(self, value, /)\n",
      " |      Return self==value.\n",
      " |  \n",
      " |  __ge__(self, value, /)\n",
      " |      Return self>=value.\n",
      " |  \n",
      " |  __getitem__(self, key, /)\n",
      " |      Return self[key].\n",
      " |  \n",
      " |  __gt__(self, value, /)\n",
      " |      Return self>value.\n",
      " |  \n",
      " |  __hash__(self, /)\n",
      " |      Return hash(self).\n",
      " |  \n",
      " |  __init__(self, /, *args, **kwargs)\n",
      " |      Initialize self.  See help(type(self)) for accurate signature.\n",
      " |  \n",
      " |  __iter__(self, /)\n",
      " |      Implement iter(self).\n",
      " |  \n",
      " |  __le__(self, value, /)\n",
      " |      Return self<=value.\n",
      " |  \n",
      " |  __lt__(self, value, /)\n",
      " |      Return self<value.\n",
      " |  \n",
      " |  __ne__(self, value, /)\n",
      " |      Return self!=value.\n",
      " |  \n",
      " |  __repr__(self, /)\n",
      " |      Return repr(self).\n",
      " |  \n",
      " |  __setitem__(self, key, value, /)\n",
      " |      Set self[key] to value.\n",
      " |  \n",
      " |  __str__(self, /)\n",
      " |      Return str(self).\n",
      " |  \n",
      " |  ----------------------------------------------------------------------\n",
      " |  Static methods defined here:\n",
      " |  \n",
      " |  __new__(*args, **kwargs) from CLR.CLR Metatype\n",
      " |      Create and return a new object.  See help(type) for accurate signature.\n",
      " |  \n",
      " |  ----------------------------------------------------------------------\n",
      " |  Data descriptors defined here:\n",
      " |  \n",
      " |  GetScaledSample\n",
      " |      Double GetScaledSample(Double)\n",
      " |  \n",
      " |  Type\n",
      " |  \n",
      " |  ----------------------------------------------------------------------\n",
      " |  Data and other attributes defined here:\n",
      " |  \n",
      " |  OpType = <class 'DelsysAPI.Channels.Trigno.OpType'>\n",
      " |      Void .ctor()\n",
      " |  \n",
      " |  ----------------------------------------------------------------------\n",
      " |  Data descriptors inherited from DelsysAPI.Channels.Channel:\n",
      " |  \n",
      " |  AddSample\n",
      " |      Void AddSample(Double, Boolean, Boolean)\n",
      " |  \n",
      " |  FrameInterval\n",
      " |  \n",
      " |  GetUnitName\n",
      " |      System.String GetUnitName()\n",
      " |      System.String GetUnitName(DelsysAPI.Utils.Units)\n",
      " |  \n",
      " |  GetUnits\n",
      " |      DelsysAPI.Utils.Units GetUnits(System.String)\n",
      " |  \n",
      " |  Id\n",
      " |  \n",
      " |  InternalName\n",
      " |  \n",
      " |  IsBound\n",
      " |  \n",
      " |  IsEnabled\n",
      " |  \n",
      " |  LostFrameFlag\n",
      " |  \n",
      " |  MaxValue\n",
      " |  \n",
      " |  MinValue\n",
      " |  \n",
      " |  Name\n",
      " |  \n",
      " |  NativeSampleRate\n",
      " |  \n",
      " |  SampleRate\n",
      " |  \n",
      " |  SampleSize\n",
      " |  \n",
      " |  Samples\n",
      " |  \n",
      " |  SamplesPerFrame\n",
      " |  \n",
      " |  Unit\n",
      " |  \n",
      " |  get_Id\n",
      " |      System.Guid get_Id()\n",
      " |  \n",
      " |  get_IsBound\n",
      " |      Boolean get_IsBound()\n",
      " |  \n",
      " |  get_IsEnabled\n",
      " |      Boolean get_IsEnabled()\n",
      " |  \n",
      " |  get_LostFrameFlag\n",
      " |      System.Collections.Generic.List`1[System.Boolean] get_LostFrameFlag()\n",
      " |  \n",
      " |  get_NativeSampleRate\n",
      " |      Double get_NativeSampleRate()\n",
      " |  \n",
      " |  get_SampleRate\n",
      " |      Double get_SampleRate()\n",
      " |  \n",
      " |  get_SampleSize\n",
      " |      Int32 get_SampleSize()\n",
      " |  \n",
      " |  get_Samples\n",
      " |      System.Collections.Generic.List`1[System.Double] get_Samples()\n",
      " |  \n",
      " |  get_SamplesPerFrame\n",
      " |      Int32 get_SamplesPerFrame()\n",
      " |  \n",
      " |  get_Unit\n",
      " |      DelsysAPI.Utils.Units get_Unit()\n",
      " |  \n",
      " |  set_Id\n",
      " |      Void set_Id(System.Guid)\n",
      " |  \n",
      " |  set_IsBound\n",
      " |      Void set_IsBound(Boolean)\n",
      " |  \n",
      " |  set_IsEnabled\n",
      " |      Void set_IsEnabled(Boolean)\n",
      " |  \n",
      " |  set_LostFrameFlag\n",
      " |      Void set_LostFrameFlag(System.Collections.Generic.List`1[System.Boolean])\n",
      " |  \n",
      " |  set_NativeSampleRate\n",
      " |      Void set_NativeSampleRate(Double)\n",
      " |  \n",
      " |  set_SampleSize\n",
      " |      Void set_SampleSize(Int32)\n",
      " |  \n",
      " |  set_Samples\n",
      " |      Void set_Samples(System.Collections.Generic.List`1[System.Double])\n",
      " |  \n",
      " |  set_SamplesPerFrame\n",
      " |      Void set_SamplesPerFrame(Int32)\n",
      " |  \n",
      " |  set_Unit\n",
      " |      Void set_Unit(DelsysAPI.Utils.Units)\n",
      " |  \n",
      " |  ----------------------------------------------------------------------\n",
      " |  Data descriptors inherited from System.Object:\n",
      " |  \n",
      " |  Equals\n",
      " |      Boolean Equals(System.Object)\n",
      " |      Boolean Equals(System.Object, System.Object)\n",
      " |  \n",
      " |  Finalize\n",
      " |      Void Finalize()\n",
      " |  \n",
      " |  GetHashCode\n",
      " |      Int32 GetHashCode()\n",
      " |  \n",
      " |  GetType\n",
      " |      System.Type GetType()\n",
      " |  \n",
      " |  MemberwiseClone\n",
      " |      System.Object MemberwiseClone()\n",
      " |  \n",
      " |  Overloads\n",
      " |  \n",
      " |  ReferenceEquals\n",
      " |      Boolean ReferenceEquals(System.Object, System.Object)\n",
      " |  \n",
      " |  ToString\n",
      " |      System.String ToString()\n",
      " |  \n",
      " |  __overloads__\n",
      "\n"
     ]
    }
   ],
   "source": [
    "help(sensorObject.TrignoChannels[0])"
   ]
  },
  {
   "cell_type": "code",
   "execution_count": 19,
   "metadata": {},
   "outputs": [
    {
     "name": "stdout",
     "output_type": "stream",
     "text": [
      "mV\n"
     ]
    }
   ],
   "source": [
    "print(sensorObject.TrignoChannels[3].GetUnitName())"
   ]
  },
  {
   "cell_type": "code",
   "execution_count": null,
   "metadata": {},
   "outputs": [
    {
     "ename": "",
     "evalue": "",
     "output_type": "error",
     "traceback": [
      "\u001b[1;31mThe Kernel crashed while executing code in the current cell or a previous cell. \n",
      "\u001b[1;31mPlease review the code in the cell(s) to identify a possible cause of the failure. \n",
      "\u001b[1;31mClick <a href='https://aka.ms/vscodeJupyterKernelCrash'>here</a> for more info. \n",
      "\u001b[1;31mView Jupyter <a href='command:jupyter.viewOutput'>log</a> for further details."
     ]
    }
   ],
   "source": [
    "print(sensorObject.Slots.Get())"
   ]
  },
  {
   "cell_type": "code",
   "execution_count": 20,
   "metadata": {},
   "outputs": [],
   "source": [
    "DelsysEMG.TrigBase.SelectSensor(0)"
   ]
  },
  {
   "cell_type": "code",
   "execution_count": 21,
   "metadata": {},
   "outputs": [
    {
     "data": {
      "text/plain": [
       "'1 HF Chan, 3 LF Chans (x1813)'"
      ]
     },
     "execution_count": 21,
     "metadata": {},
     "output_type": "execute_result"
    }
   ],
   "source": [
    "DelsysEMG.TrigBase.GetCurrentSensorMode(0)"
   ]
  },
  {
   "cell_type": "code",
   "execution_count": 24,
   "metadata": {},
   "outputs": [
    {
     "name": "stdout",
     "output_type": "stream",
     "text": [
      "['1 HF Chan, 3 LF Chans (x1813)', '1 HF Chan, 3 LF Chans (x2221)', '1 HF Chan, 3 LF Chans (x1413)', 'SIG raw x4 (519Hz) (x1813)', 'SIG raw x4 (296Hz), ACC 2g (148Hz), GYRO 250dps (148Hz), Gain  x1813', 'SIG raw x4 (296Hz), ACC 2g (148Hz), GYRO 250dps (148Hz), Gain  x2221', 'SIG raw x4 (296Hz), ACC 2g (148Hz), GYRO 250dps (148Hz), Gain  x1413', 'SIG raw x4 (296Hz), ACC 4g (148Hz), GYRO 250dps (148Hz), Gain  x1813', 'SIG raw x4 (296Hz), ACC 4g (148Hz), GYRO 250dps (148Hz), Gain  x2221', 'SIG raw x4 (296Hz), ACC 4g (148Hz), GYRO 250dps (148Hz), Gain  x1413', 'SIG raw x4 (296Hz), ACC 8g (148Hz), GYRO 250dps (148Hz), Gain  x1813', 'SIG raw x4 (296Hz), ACC 8g (148Hz), GYRO 250dps (148Hz), Gain  x2221', 'SIG raw x4 (296Hz), ACC 8g (148Hz), GYRO 250dps (148Hz), Gain  x1413', 'SIG raw x4 (296Hz), ACC 16g (148Hz), GYRO 250dps (148Hz), Gain  x1813', 'SIG raw x4 (296Hz), ACC 16g (148Hz), GYRO 250dps (148Hz), Gain  x2221', 'SIG raw x4 (296Hz), ACC 16g (148Hz), GYRO 250dps (148Hz), Gain  x1413', 'SIG raw x4 (296Hz), ACC 2g (148Hz), GYRO 500dps (148Hz), Gain  x1813', 'SIG raw x4 (296Hz), ACC 2g (148Hz), GYRO 500dps (148Hz), Gain  x2221', 'SIG raw x4 (296Hz), ACC 2g (148Hz), GYRO 500dps (148Hz), Gain  x1413', 'SIG raw x4 (296Hz), ACC 4g (148Hz), GYRO 500dps (148Hz), Gain  x1813', 'SIG raw x4 (296Hz), ACC 4g (148Hz), GYRO 500dps (148Hz), Gain  x2221', 'SIG raw x4 (296Hz), ACC 4g (148Hz), GYRO 500dps (148Hz), Gain  x1413', 'SIG raw x4 (296Hz), ACC 8g (148Hz), GYRO 500dps (148Hz), Gain  x1813', 'SIG raw x4 (296Hz), ACC 8g (148Hz), GYRO 500dps (148Hz), Gain  x2221', 'SIG raw x4 (296Hz), ACC 8g (148Hz), GYRO 500dps (148Hz), Gain  x1413', 'SIG raw x4 (296Hz), ACC 16g (148Hz), GYRO 500dps (148Hz), Gain  x1813', 'SIG raw x4 (296Hz), ACC 16g (148Hz), GYRO 500dps (148Hz), Gain  x2221', 'SIG raw x4 (296Hz), ACC 16g (148Hz), GYRO 500dps (148Hz), Gain  x1413', 'SIG raw x4 (296Hz), ACC 2g (148Hz), GYRO 1000dps (148Hz), Gain  x1813', 'SIG raw x4 (296Hz), ACC 2g (148Hz), GYRO 1000dps (148Hz), Gain  x2221', 'SIG raw x4 (296Hz), ACC 2g (148Hz), GYRO 1000dps (148Hz), Gain  x1413', 'SIG raw x4 (296Hz), ACC 4g (148Hz), GYRO 1000dps (148Hz), Gain  x1813', 'SIG raw x4 (296Hz), ACC 4g (148Hz), GYRO 1000dps (148Hz), Gain  x2221', 'SIG raw x4 (296Hz), ACC 4g (148Hz), GYRO 1000dps (148Hz), Gain  x1413', 'SIG raw x4 (296Hz), ACC 8g (148Hz), GYRO 1000dps (148Hz), Gain  x1813', 'SIG raw x4 (296Hz), ACC 8g (148Hz), GYRO 1000dps (148Hz), Gain  x2221', 'SIG raw x4 (296Hz), ACC 8g (148Hz), GYRO 1000dps (148Hz), Gain  x1413', 'SIG raw x4 (296Hz), ACC 16g (148Hz), GYRO 1000dps (148Hz), Gain  x1813', 'SIG raw x4 (296Hz), ACC 16g (148Hz), GYRO 1000dps (148Hz), Gain  x2221', 'SIG raw x4 (296Hz), ACC 16g (148Hz), GYRO 1000dps (148Hz), Gain  x1413', 'SIG raw x4 (296Hz), ACC 2g (148Hz), GYRO 2000dps (148Hz), Gain  x1813', 'SIG raw x4 (296Hz), ACC 2g (148Hz), GYRO 2000dps (148Hz), Gain  x2221', 'SIG raw x4 (296Hz), ACC 2g (148Hz), GYRO 2000dps (148Hz), Gain  x1413', 'SIG raw x4 (296Hz), ACC 4g (148Hz), GYRO 2000dps (148Hz), Gain  x1813', 'SIG raw x4 (296Hz), ACC 4g (148Hz), GYRO 2000dps (148Hz), Gain  x2221', 'SIG raw x4 (296Hz), ACC 4g (148Hz), GYRO 2000dps (148Hz), Gain  x1413', 'SIG raw x4 (296Hz), ACC 8g (148Hz), GYRO 2000dps (148Hz), Gain  x1813', 'SIG raw x4 (296Hz), ACC 8g (148Hz), GYRO 2000dps (148Hz), Gain  x2221', 'SIG raw x4 (296Hz), ACC 8g (148Hz), GYRO 2000dps (148Hz), Gain  x1413', 'SIG raw x4 (296Hz), ACC 16g (148Hz), GYRO 2000dps (148Hz), Gain  x1813', 'SIG raw x4 (296Hz), ACC 16g (148Hz), GYRO 2000dps (148Hz), Gain  x2221', 'SIG raw x4 (296Hz), ACC 16g (148Hz), GYRO 2000dps (148Hz), Gain  x1413', 'SIG raw x4 (370Hz), OR 32 bits (74Hz), Gain  x1813', 'SIG raw x4 (370Hz), OR 32 bits (74Hz), Gain  x2221', 'SIG raw x4 (370Hz), OR 32 bits (74Hz), Gain  x1413', ' +/-2g(370Hz), +/-250dps(370Hz), ODR=2, SBW, 16bits', ' +/-4g(370Hz), +/-250dps(370Hz), ODR=2, SBW, 16bits', ' +/-8g(370Hz), +/-250dps(370Hz), ODR=2, SBW, 16bits', ' +/-16g(370Hz), +/-250dps(370Hz), ODR=2, SBW, 16bits', ' +/-2g(370Hz), +/-500dps(370Hz), ODR=2, SBW, 16bits', ' +/-4g(370Hz), +/-500dps(370Hz), ODR=2, SBW, 16bits', ' +/-8g(370Hz), +/-500dps(370Hz), ODR=2, SBW, 16bits', ' +/-16g(370Hz), +/-500dps(370Hz), ODR=2, SBW, 16bits', ' +/-2g(370Hz), +/-1000dps(370Hz), ODR=2, SBW, 16bits', ' +/-4g(370Hz), +/-1000dps(370Hz), ODR=2, SBW, 16bits', ' +/-8g(370Hz), +/-1000dps(370Hz), ODR=2, SBW, 16bits', ' +/-16g(370Hz), +/-1000dps(370Hz), ODR=2, SBW, 16bits', ' +/-2g(370Hz), +/-2000dps(370Hz), ODR=2, SBW, 16bits', ' +/-4g(370Hz), +/-2000dps(370Hz), ODR=2, SBW, 16bits', ' +/-8g(370Hz), +/-2000dps(370Hz), ODR=2, SBW, 16bits', ' +/-16g(370Hz), +/-2000dps(370Hz), ODR=2, SBW, 16bits']\n"
     ]
    }
   ],
   "source": [
    "print(list(DelsysEMG.TrigBase.AvailibleSensorModes(0)))"
   ]
  },
  {
   "cell_type": "code",
   "execution_count": null,
   "metadata": {},
   "outputs": [],
   "source": [
    "for channel in enumerate(sensorObject.TrignoChannels):\n",
    "    print(channel)"
   ]
  },
  {
   "cell_type": "code",
   "execution_count": null,
   "metadata": {},
   "outputs": [],
   "source": [
    "help(sensorObject)"
   ]
  },
  {
   "cell_type": "code",
   "execution_count": null,
   "metadata": {},
   "outputs": [],
   "source": [
    "DelsysEMG.scanForSensors()"
   ]
  },
  {
   "cell_type": "code",
   "execution_count": null,
   "metadata": {},
   "outputs": [],
   "source": [
    "help(sensorObject.Properties)"
   ]
  },
  {
   "cell_type": "code",
   "execution_count": null,
   "metadata": {},
   "outputs": [],
   "source": [
    "DelsysEMG.TrigBase.PollData().Keys"
   ]
  },
  {
   "cell_type": "code",
   "execution_count": null,
   "metadata": {},
   "outputs": [],
   "source": [
    "sensorObject = DelsysEMG.TrigBase.GetSensorObject(0)"
   ]
  },
  {
   "cell_type": "code",
   "execution_count": null,
   "metadata": {},
   "outputs": [],
   "source": [
    "print(sensorObject.Properties.GetHashCode())"
   ]
  },
  {
   "cell_type": "code",
   "execution_count": null,
   "metadata": {},
   "outputs": [],
   "source": [
    "print(list(DelsysEMG.TrigBase.GetSensorNames()))"
   ]
  },
  {
   "cell_type": "code",
   "execution_count": null,
   "metadata": {},
   "outputs": [],
   "source": [
    "list(DelsysEMG.TrigBase.GetSensorNames())"
   ]
  },
  {
   "cell_type": "code",
   "execution_count": null,
   "metadata": {},
   "outputs": [],
   "source": [
    "sensor = DelsysEMG.TrigBase.GetSensorObject(0)\n",
    "type(sensor.sampleMode)"
   ]
  },
  {
   "cell_type": "code",
   "execution_count": null,
   "metadata": {},
   "outputs": [],
   "source": [
    "print(sensor.InternalProperties.get_Sid())"
   ]
  },
  {
   "cell_type": "code",
   "execution_count": null,
   "metadata": {},
   "outputs": [],
   "source": [
    "DelsysEMG.availableSensorModes(0)"
   ]
  },
  {
   "cell_type": "code",
   "execution_count": null,
   "metadata": {},
   "outputs": [],
   "source": [
    "DelsysEMG.selectAllSensors()"
   ]
  },
  {
   "cell_type": "code",
   "execution_count": null,
   "metadata": {},
   "outputs": [],
   "source": [
    "DelsysEMG.setSampleMode([0], \"SIG raw x4 (519Hz) (x1813)\")"
   ]
  },
  {
   "cell_type": "code",
   "execution_count": null,
   "metadata": {},
   "outputs": [],
   "source": [
    "DelsysEMG.configure()"
   ]
  },
  {
   "cell_type": "code",
   "execution_count": null,
   "metadata": {},
   "outputs": [],
   "source": [
    "DelsysEMG.TrigBase.GetSensorObject(0).Type"
   ]
  },
  {
   "cell_type": "code",
   "execution_count": null,
   "metadata": {},
   "outputs": [],
   "source": [
    "DelsysEMG.startDataCollection()"
   ]
  },
  {
   "cell_type": "code",
   "execution_count": null,
   "metadata": {},
   "outputs": [],
   "source": [
    "DelsysEMG.processData()"
   ]
  },
  {
   "cell_type": "code",
   "execution_count": null,
   "metadata": {},
   "outputs": [],
   "source": [
    "data = DelsysEMG.data"
   ]
  },
  {
   "cell_type": "code",
   "execution_count": null,
   "metadata": {},
   "outputs": [],
   "source": [
    "DelsysEMG.stopDataCollection()"
   ]
  },
  {
   "cell_type": "code",
   "execution_count": null,
   "metadata": {},
   "outputs": [],
   "source": [
    "plt.plot(data[0][20])\n",
    "plt.show()"
   ]
  },
  {
   "cell_type": "code",
   "execution_count": null,
   "metadata": {},
   "outputs": [],
   "source": [
    "DelsysEMG.channelNames"
   ]
  },
  {
   "cell_type": "code",
   "execution_count": null,
   "metadata": {},
   "outputs": [],
   "source": [
    "DelsysEMG.sampleRates"
   ]
  },
  {
   "cell_type": "code",
   "execution_count": null,
   "metadata": {},
   "outputs": [],
   "source": [
    "onelist = np.ones(10)"
   ]
  },
  {
   "cell_type": "code",
   "execution_count": null,
   "metadata": {},
   "outputs": [],
   "source": [
    "onelist[-5:-1]"
   ]
  },
  {
   "cell_type": "code",
   "execution_count": null,
   "metadata": {},
   "outputs": [],
   "source": [
    "oneArray = np.ones((3, 10))"
   ]
  },
  {
   "cell_type": "code",
   "execution_count": null,
   "metadata": {},
   "outputs": [],
   "source": [
    "oneArray"
   ]
  },
  {
   "cell_type": "code",
   "execution_count": null,
   "metadata": {},
   "outputs": [],
   "source": [
    "len(oneArray)"
   ]
  },
  {
   "cell_type": "code",
   "execution_count": null,
   "metadata": {},
   "outputs": [],
   "source": [
    "oneArray.shape"
   ]
  },
  {
   "cell_type": "code",
   "execution_count": null,
   "metadata": {},
   "outputs": [],
   "source": [
    "oneArray = np.ones(10)"
   ]
  },
  {
   "cell_type": "code",
   "execution_count": null,
   "metadata": {},
   "outputs": [],
   "source": [
    "oneArray"
   ]
  },
  {
   "cell_type": "code",
   "execution_count": null,
   "metadata": {},
   "outputs": [],
   "source": [
    "oneArray.shape[1]"
   ]
  },
  {
   "cell_type": "code",
   "execution_count": null,
   "metadata": {},
   "outputs": [],
   "source": [
    "concatArray = []"
   ]
  },
  {
   "cell_type": "code",
   "execution_count": null,
   "metadata": {},
   "outputs": [],
   "source": [
    "concatArray.append(oneArray)"
   ]
  },
  {
   "cell_type": "code",
   "execution_count": null,
   "metadata": {},
   "outputs": [],
   "source": [
    "np.array(concatArray).shape"
   ]
  }
 ],
 "metadata": {
  "kernelspec": {
   "display_name": "Python 3",
   "language": "python",
   "name": "python3"
  },
  "language_info": {
   "codemirror_mode": {
    "name": "ipython",
    "version": 3
   },
   "file_extension": ".py",
   "mimetype": "text/x-python",
   "name": "python",
   "nbconvert_exporter": "python",
   "pygments_lexer": "ipython3",
   "version": "3.8.1"
  }
 },
 "nbformat": 4,
 "nbformat_minor": 2
}
