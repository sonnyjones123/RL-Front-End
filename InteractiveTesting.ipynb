{
 "cells": [
  {
   "cell_type": "code",
   "execution_count": 1,
   "id": "482279db-9dc0-41d8-8085-e3d83332e9e4",
   "metadata": {},
   "outputs": [],
   "source": [
    "from DelsysEMG import DelsysEMG\n",
    "import numpy as np"
   ]
  },
  {
   "cell_type": "code",
   "execution_count": 2,
   "id": "256d6da0-939e-403d-a7d6-51eeb052bfa1",
   "metadata": {},
   "outputs": [],
   "source": [
    "DelsysEMG = DelsysEMG()"
   ]
  },
  {
   "cell_type": "code",
   "execution_count": 3,
   "id": "c28c7370-5264-46bd-9959-3f5a98218046",
   "metadata": {},
   "outputs": [
    {
     "name": "stdout",
     "output_type": "stream",
     "text": [
      "Validating TrignoBase connection...\n",
      "TrignoBase Connection Valid\n"
     ]
    }
   ],
   "source": [
    "DelsysEMG.connect()"
   ]
  },
  {
   "cell_type": "code",
   "execution_count": 32,
   "id": "ba9f7e2b-3a33-43ad-91d7-46147e6f75a1",
   "metadata": {},
   "outputs": [
    {
     "name": "stdout",
     "output_type": "stream",
     "text": [
      "Starting Sensor Pairing...\n",
      "Awaiting Sensor Pair Request...\n",
      "Sensor 1 paired\n",
      "Scanning for paired sensors...\n",
      "------Sensor List-----\n",
      "Sensors Found: 8\n",
      "75461 (Trigno Avanti)\n",
      "75641 (Trigno Avanti)\n",
      "75672 (Trigno Avanti)\n",
      "75467 (Trigno Avanti)\n",
      "75587 (Trigno Avanti)\n",
      "75548 (Trigno Avanti)\n",
      "75268 (Trigno Avanti)\n",
      "75406 (Trigno Avanti)\n"
     ]
    }
   ],
   "source": [
    "DelsysEMG.connectSensors(1)"
   ]
  },
  {
   "cell_type": "code",
   "execution_count": 11,
   "id": "a5dd3c1f-4fdf-43ea-835a-979b5bcc300b",
   "metadata": {},
   "outputs": [
    {
     "data": {
      "text/plain": [
       "array([1., 1., 0., 0., 0., 0., 0., 0., 0., 0., 0., 0., 0., 0., 0., 0.])"
      ]
     },
     "execution_count": 11,
     "metadata": {},
     "output_type": "execute_result"
    }
   ],
   "source": [
    "sensorList = np.zeros(16)\n",
    "sensorList[0:2] = 1\n",
    "sensorList"
   ]
  },
  {
   "cell_type": "code",
   "execution_count": 12,
   "id": "21563564-baf7-4d84-a940-d266565b9f40",
   "metadata": {},
   "outputs": [],
   "source": [
    "DelsysEMG.setSampleMode(sensorList, \"EMG plus gyro (+/- 2000 dps), +/-5.5mV, 20-450Hz\")"
   ]
  },
  {
   "cell_type": "code",
   "execution_count": 31,
   "id": "0d96c3fb",
   "metadata": {},
   "outputs": [],
   "source": [
    "DelsysEMG.TrigBase.ResetPipeline()"
   ]
  }
 ],
 "metadata": {
  "kernelspec": {
   "display_name": "Python 3 (ipykernel)",
   "language": "python",
   "name": "python3"
  },
  "language_info": {
   "codemirror_mode": {
    "name": "ipython",
    "version": 3
   },
   "file_extension": ".py",
   "mimetype": "text/x-python",
   "name": "python",
   "nbconvert_exporter": "python",
   "pygments_lexer": "ipython3",
   "version": "3.8.1"
  }
 },
 "nbformat": 4,
 "nbformat_minor": 5
}
