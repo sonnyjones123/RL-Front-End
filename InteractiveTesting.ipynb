{
 "cells": [
  {
   "cell_type": "code",
   "execution_count": 1,
   "id": "482279db-9dc0-41d8-8085-e3d83332e9e4",
   "metadata": {},
   "outputs": [],
   "source": [
    "from DelsysEMG import DelsysEMG\n",
    "import numpy as np\n",
    "import matplotlib.pyplot as plt"
   ]
  },
  {
   "cell_type": "code",
   "execution_count": 2,
   "id": "256d6da0-939e-403d-a7d6-51eeb052bfa1",
   "metadata": {},
   "outputs": [],
   "source": [
    "DelsysEMG = DelsysEMG()"
   ]
  },
  {
   "cell_type": "code",
   "execution_count": 3,
   "id": "c28c7370-5264-46bd-9959-3f5a98218046",
   "metadata": {},
   "outputs": [
    {
     "name": "stdout",
     "output_type": "stream",
     "text": [
      "Validating TrignoBase connection...\n",
      "TrignoBase Connection Valid\n"
     ]
    }
   ],
   "source": [
    "DelsysEMG.connect()"
   ]
  },
  {
   "cell_type": "code",
   "execution_count": 4,
   "id": "ba9f7e2b-3a33-43ad-91d7-46147e6f75a1",
   "metadata": {},
   "outputs": [
    {
     "name": "stdout",
     "output_type": "stream",
     "text": [
      "Starting Sensor Pairing...\n",
      "Awaiting Sensor Pair Request...\n",
      "Sensor 1 paired\n",
      "Scanning for paired sensors...\n",
      "------Sensor List-----\n",
      "Sensors Found: 1\n",
      "75503: Bicep\n"
     ]
    }
   ],
   "source": [
    "DelsysEMG.connectSensors(1)"
   ]
  },
  {
   "cell_type": "code",
   "execution_count": null,
   "id": "b2e12953",
   "metadata": {},
   "outputs": [],
   "source": [
    "DelsysEMG.selectAllSensors()"
   ]
  },
  {
   "cell_type": "code",
   "execution_count": null,
   "id": "a5dd3c1f-4fdf-43ea-835a-979b5bcc300b",
   "metadata": {},
   "outputs": [],
   "source": [
    "sensorList = np.zeros(16)\n",
    "sensorList[0:1] = 1\n",
    "sensorList"
   ]
  },
  {
   "cell_type": "code",
   "execution_count": null,
   "id": "21563564-baf7-4d84-a940-d266565b9f40",
   "metadata": {},
   "outputs": [],
   "source": [
    "DelsysEMG.setSampleMode(sensorList, \"EMG plus gyro (+/- 2000 dps), +/-5.5mV, 20-450Hz\")"
   ]
  },
  {
   "cell_type": "code",
   "execution_count": null,
   "id": "fa8dd35a",
   "metadata": {},
   "outputs": [],
   "source": [
    "DelsysEMG.configure()"
   ]
  },
  {
   "cell_type": "code",
   "execution_count": null,
   "id": "0ce68e9c",
   "metadata": {},
   "outputs": [],
   "source": [
    "DelsysEMG.channelNames"
   ]
  },
  {
   "cell_type": "code",
   "execution_count": null,
   "id": "8e4e7e32",
   "metadata": {},
   "outputs": [],
   "source": [
    "DelsysEMG.startDataCollection()"
   ]
  },
  {
   "cell_type": "code",
   "execution_count": null,
   "id": "0ba44ea5",
   "metadata": {},
   "outputs": [],
   "source": [
    "DelsysEMG.processData()"
   ]
  },
  {
   "cell_type": "code",
   "execution_count": null,
   "id": "53a6ac10",
   "metadata": {},
   "outputs": [],
   "source": [
    "DelsysEMG.stopDataCollection()"
   ]
  },
  {
   "cell_type": "code",
   "execution_count": null,
   "id": "a65451e8",
   "metadata": {},
   "outputs": [],
   "source": [
    "EMGData = DelsysEMG.data"
   ]
  },
  {
   "cell_type": "code",
   "execution_count": null,
   "id": "46ec9dee",
   "metadata": {},
   "outputs": [],
   "source": [
    "print(DelsysEMG.channelNames)"
   ]
  },
  {
   "cell_type": "code",
   "execution_count": null,
   "id": "99c5280c",
   "metadata": {},
   "outputs": [],
   "source": [
    "plt.plot(EMGData[2][0])"
   ]
  },
  {
   "cell_type": "code",
   "execution_count": null,
   "id": "25a24ec6",
   "metadata": {},
   "outputs": [],
   "source": [
    "averageEMG = []\n",
    "\n",
    "for i in range(len(DelsysEMG.channelNames)):\n",
    "    if \"EMG\" in DelsysEMG.channelNames[i]:\n",
    "        avg_data = np.average(EMGData[0][i])\n",
    "        averageEMG.append(avg_data)"
   ]
  },
  {
   "cell_type": "code",
   "execution_count": null,
   "id": "4b4519f7",
   "metadata": {},
   "outputs": [],
   "source": [
    "averageEMG"
   ]
  },
  {
   "cell_type": "code",
   "execution_count": null,
   "id": "0d96c3fb",
   "metadata": {},
   "outputs": [],
   "source": [
    "DelsysEMG.TrigBase.ResetPipeline()"
   ]
  },
  {
   "cell_type": "markdown",
   "id": "af6a6c3b",
   "metadata": {},
   "source": [
    "Data Analysis"
   ]
  },
  {
   "cell_type": "code",
   "execution_count": null,
   "id": "43e691ba",
   "metadata": {},
   "outputs": [],
   "source": [
    "import numpy as np\n",
    "import matplotlib.pyplot as plt"
   ]
  },
  {
   "cell_type": "code",
   "execution_count": null,
   "id": "322075e9",
   "metadata": {},
   "outputs": [],
   "source": [
    "delsysData = np.load('Delsys_Data.npy', allow_pickle=True)\n"
   ]
  },
  {
   "cell_type": "code",
   "execution_count": null,
   "id": "1a689c14",
   "metadata": {},
   "outputs": [],
   "source": [
    "averageEMG = []\n",
    "for i in range(len(delsysData)):\n",
    "    avg_data = np.average(delsysData[i][0])\n",
    "    averageEMG.append(avg_data)\n",
    "\n",
    "averageEMG"
   ]
  },
  {
   "cell_type": "code",
   "execution_count": null,
   "id": "bd64bb74",
   "metadata": {},
   "outputs": [],
   "source": [
    "','.join(map(str, averageEMG))"
   ]
  },
  {
   "cell_type": "code",
   "execution_count": null,
   "id": "804eb58b",
   "metadata": {},
   "outputs": [],
   "source": [
    "EMG = []\n",
    "\n",
    "for i in range(len(delsysData)):\n",
    "    EMG.append(np.average(delsysData[i][0]))"
   ]
  },
  {
   "cell_type": "code",
   "execution_count": null,
   "id": "71d5affe",
   "metadata": {},
   "outputs": [],
   "source": [
    "sendEMG = ','.join(map(str, EMG))\n",
    "sendEMG"
   ]
  },
  {
   "cell_type": "code",
   "execution_count": null,
   "id": "466c5105",
   "metadata": {},
   "outputs": [],
   "source": [
    "myDict = {}\n",
    "myDict[12345] = [12345]"
   ]
  },
  {
   "cell_type": "code",
   "execution_count": null,
   "id": "b989d7db",
   "metadata": {},
   "outputs": [],
   "source": [
    "myDict[12345].append(\"Muscle\")"
   ]
  },
  {
   "cell_type": "code",
   "execution_count": null,
   "id": "fdc458bc",
   "metadata": {},
   "outputs": [],
   "source": [
    "myDict[12345][1]"
   ]
  },
  {
   "cell_type": "code",
   "execution_count": null,
   "id": "24d9393a",
   "metadata": {},
   "outputs": [],
   "source": [
    "muscle = input('Input')"
   ]
  }
 ],
 "metadata": {
  "kernelspec": {
   "display_name": "Python 3 (ipykernel)",
   "language": "python",
   "name": "python3"
  },
  "language_info": {
   "codemirror_mode": {
    "name": "ipython",
    "version": 3
   },
   "file_extension": ".py",
   "mimetype": "text/x-python",
   "name": "python",
   "nbconvert_exporter": "python",
   "pygments_lexer": "ipython3",
   "version": "3.8.1"
  }
 },
 "nbformat": 4,
 "nbformat_minor": 5
}
