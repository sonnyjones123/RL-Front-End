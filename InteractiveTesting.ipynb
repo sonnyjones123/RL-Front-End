{
 "cells": [
  {
   "cell_type": "code",
   "execution_count": 2,
   "id": "482279db-9dc0-41d8-8085-e3d83332e9e4",
   "metadata": {},
   "outputs": [],
   "source": [
    "import PySide6\n",
    "import numpy as np\n",
    "import matplotlib.pyplot as plt\n",
    "from datetime import date\n",
    "#from DelsysLSLReceiver import *\n",
    "from random import random as rand\n"
   ]
  },
  {
   "cell_type": "code",
   "execution_count": 11,
   "id": "eb7734fc",
   "metadata": {},
   "outputs": [
    {
     "data": {
      "text/plain": [
       "[[0.6395983748683826, 0.7273550507985572],\n",
       " [0.7475285313416791, 0.0504721851300749],\n",
       " [0.8695448591438433, 0.6378439354655001],\n",
       " [0.763815710358746, 0.20034650672867227],\n",
       " [0.8351345022446186, 0.9948478446452945],\n",
       " [0.31812271640030854, 0.823857431447753],\n",
       " [0.30768794367168695, 0.1865785262055023],\n",
       " [0.8684279363652428, 0.013811058118050723],\n",
       " [0.1500150752592584, 0.6939890870147831],\n",
       " [0.4427692029986793, 0.9441359008047798],\n",
       " [0.7227537358699735, 0.04626345372694318],\n",
       " [0.6812783699566637, 0.5306151028585044],\n",
       " [0.5019752309852406, 0.4171694863396038],\n",
       " [0.03802231782445953, 0.06907278600728028],\n",
       " [0.0888916546406806, 0.9676985995041165],\n",
       " [0.06744255312563652, 0.13693292335712137],\n",
       " [0.02730026116638895, 0.5287545219383428],\n",
       " [0.9516535919673837, 0.8825721602931615],\n",
       " [0.714112765592439, 0.23728166231173253],\n",
       " [0.806974388700896, 0.19626352674297576],\n",
       " [0.7695670089308917, 0.4566856285673978],\n",
       " [0.2343145874831909, 0.09283055575701882],\n",
       " [0.7384977814991491, 0.1607737722235093],\n",
       " [0.12963719709527166, 0.8955830887067818],\n",
       " [0.7483601925254365, 0.30146284772501186],\n",
       " [0.20997891535305857, 0.5953134683962694],\n",
       " [0.5405557969352824, 0.6642049654348786],\n",
       " [0.09537870096921852, 0.6691329114226174],\n",
       " [0.99883208647798, 0.11795988564893178],\n",
       " [0.8501017551900029, 0.04109084906858507],\n",
       " [0.7990684317809978, 0.7188143567778148],\n",
       " [0.304639039912028, 0.7458407659168104],\n",
       " [0.9331427480415998, 0.9469894221160939],\n",
       " [0.9430392001484345, 0.7029915944941284],\n",
       " [0.41779796995497676, 0.7144939245059411],\n",
       " [0.3363232600389886, 0.627187358202651],\n",
       " [0.5395173792481522, 0.6960431836266133],\n",
       " [0.040117304818970356, 0.25117563032391954],\n",
       " [0.22019265288701673, 0.6255432476275188],\n",
       " [0.6705187142765087, 0.05405932934671054],\n",
       " [0.8911957020517608, 0.3328823871750738],\n",
       " [0.3242029239985167, 0.5337205961767536],\n",
       " [0.8227027209240538, 0.5846958700186525],\n",
       " [0.68497212859578, 0.4114525642147434],\n",
       " [0.02015976918408846, 0.30889802110998277],\n",
       " [0.35223571360303396, 0.17498073479586906],\n",
       " [0.9148071351801506, 0.596142340023474],\n",
       " [0.3240050955851552, 0.4709469250984434],\n",
       " [0.04344849970362774, 0.9319179576515055],\n",
       " [0.6269401047639597, 0.13973133537823534],\n",
       " [0.9345403819231524, 0.21354495285388175],\n",
       " [0.8211171770853538, 0.7884764047516615],\n",
       " [0.7095135964220313, 0.7244140850529287],\n",
       " [0.08899983253568544, 0.5600475403330661],\n",
       " [0.8313645217750412, 0.823897685322202],\n",
       " [0.044213761167722576, 0.046005471859248526],\n",
       " [0.5761428177067731, 0.4267187856516593],\n",
       " [0.41228252861161785, 0.51668387325744],\n",
       " [0.8978738002684881, 0.5863835705452274],\n",
       " [0.2845496874851532, 0.9058119749581545],\n",
       " [0.45098048945512925, 0.6316436829239381],\n",
       " [0.597383112952459, 0.5244333485556988],\n",
       " [0.9833747338420065, 0.1014149554697058],\n",
       " [0.06053621372797269, 0.06821346314173926],\n",
       " [0.1439581352442535, 0.4140047782772729],\n",
       " [0.17529220232843834, 0.7293611808582163],\n",
       " [0.7616950498807337, 0.43294483937179207],\n",
       " [0.6127828553155319, 0.1482111983239487],\n",
       " [0.9668839434822268, 0.4827214338457705],\n",
       " [0.24304986883970114, 0.6518347731360239],\n",
       " [0.9450904673381063, 0.8972862008496667],\n",
       " [0.06399283505616271, 0.48592170433911563],\n",
       " [0.6516694126478053, 0.31052482552396843],\n",
       " [0.00998282930696881, 0.8482767634007814],\n",
       " [0.4027652648990184, 0.3035760105281218],\n",
       " [0.5857592670771344, 0.62862232697555],\n",
       " [0.3440339327937181, 0.7499657324262935],\n",
       " [0.9183374367983639, 0.1773067261857708],\n",
       " [0.9599030350659085, 0.30267326206559697],\n",
       " [0.9218099108139812, 0.927441170611238],\n",
       " [0.07929824251213669, 0.1490049118494009],\n",
       " [0.33143084552926916, 0.11999997922454597],\n",
       " [0.3992791710103878, 0.03570535752145121],\n",
       " [0.09257841407693546, 0.7332857408102288],\n",
       " [0.7730123486150082, 0.3147082428861858],\n",
       " [0.9328917062992912, 0.5132445420350126],\n",
       " [0.9561783951987608, 0.4299946083325601],\n",
       " [0.7904810734628085, 0.9317670496927657],\n",
       " [0.592854709358041, 0.7083699715961431],\n",
       " [0.2250328791105728, 0.13338478941695175],\n",
       " [0.6964684508556934, 0.8152187542414376],\n",
       " [0.9118865284945137, 0.6279373056194414],\n",
       " [0.5535310036838749, 0.8366988618887188],\n",
       " [0.2967913594139646, 0.2686620756476862],\n",
       " [0.12437516500918899, 0.37629333946081855],\n",
       " [0.9825699964817782, 0.28746341101352657],\n",
       " [0.11878008064358658, 0.04116673597217668],\n",
       " [0.46471928626001946, 0.5897219059986409],\n",
       " [0.9902313123548951, 0.9173898377391292],\n",
       " [0.5235699993490464, 0.006948995434062577]]"
      ]
     },
     "execution_count": 11,
     "metadata": {},
     "output_type": "execute_result"
    }
   ],
   "source": [
    "mychunk = [[rand() for chan_ix in range(2)]\n",
    "            for samp_ix in range(100)]\n",
    "mychunk"
   ]
  },
  {
   "cell_type": "code",
   "execution_count": 3,
   "id": "47ccf4d4",
   "metadata": {},
   "outputs": [],
   "source": [
    "folderName = str(date.today())"
   ]
  },
  {
   "cell_type": "code",
   "execution_count": 4,
   "id": "2813c9c1",
   "metadata": {},
   "outputs": [
    {
     "name": "stdout",
     "output_type": "stream",
     "text": [
      "2023-10-26\n"
     ]
    }
   ],
   "source": [
    "print(folderName)"
   ]
  },
  {
   "cell_type": "code",
   "execution_count": 2,
   "id": "256d6da0-939e-403d-a7d6-51eeb052bfa1",
   "metadata": {},
   "outputs": [],
   "source": [
    "DelsysEMG = DelsysEMG()"
   ]
  },
  {
   "cell_type": "code",
   "execution_count": 3,
   "id": "c28c7370-5264-46bd-9959-3f5a98218046",
   "metadata": {},
   "outputs": [
    {
     "name": "stdout",
     "output_type": "stream",
     "text": [
      "Validating TrignoBase connection...\n",
      "TrignoBase Connection Valid\n"
     ]
    }
   ],
   "source": [
    "DelsysEMG.connect()"
   ]
  },
  {
   "cell_type": "code",
   "execution_count": 4,
   "id": "ba9f7e2b-3a33-43ad-91d7-46147e6f75a1",
   "metadata": {},
   "outputs": [
    {
     "name": "stdout",
     "output_type": "stream",
     "text": [
      "Starting Sensor Pairing...\n",
      "Awaiting Sensor Pair Request...\n",
      "Sensor 1 paired\n",
      "Sensor 2 paired\n",
      "Scanning for paired sensors...\n",
      "------Sensor List-----\n",
      "Sensors Found: 2\n",
      "75503: bicep\n",
      "75548: mass\n"
     ]
    }
   ],
   "source": [
    "DelsysEMG.connectSensors(2)"
   ]
  },
  {
   "cell_type": "code",
   "execution_count": 5,
   "id": "b2e12953",
   "metadata": {},
   "outputs": [],
   "source": [
    "DelsysEMG.selectAllSensors()"
   ]
  },
  {
   "cell_type": "code",
   "execution_count": 6,
   "id": "a5dd3c1f-4fdf-43ea-835a-979b5bcc300b",
   "metadata": {},
   "outputs": [
    {
     "data": {
      "text/plain": [
       "array([1., 1., 0., 0., 0., 0., 0., 0., 0., 0., 0., 0., 0., 0., 0., 0.])"
      ]
     },
     "execution_count": 6,
     "metadata": {},
     "output_type": "execute_result"
    }
   ],
   "source": [
    "sensorList = np.zeros(16)\n",
    "sensorList[0:2] = 1\n",
    "sensorList"
   ]
  },
  {
   "cell_type": "code",
   "execution_count": 7,
   "id": "21563564-baf7-4d84-a940-d266565b9f40",
   "metadata": {},
   "outputs": [],
   "source": [
    "DelsysEMG.setSampleMode(sensorList, \"EMG plus gyro (+/- 2000 dps), +/-5.5mV, 20-450Hz\")"
   ]
  },
  {
   "cell_type": "code",
   "execution_count": 8,
   "id": "fa8dd35a",
   "metadata": {},
   "outputs": [
    {
     "name": "stdout",
     "output_type": "stream",
     "text": [
      "Pipeline Armed\n",
      "Armed\n"
     ]
    }
   ],
   "source": [
    "DelsysEMG.configure()"
   ]
  },
  {
   "cell_type": "code",
   "execution_count": 9,
   "id": "0ce68e9c",
   "metadata": {},
   "outputs": [
    {
     "data": {
      "text/plain": [
       "['EMG 1', 'GYRO X', 'GYRO Y', 'GYRO Z', 'EMG 1', 'GYRO X', 'GYRO Y', 'GYRO Z']"
      ]
     },
     "execution_count": 9,
     "metadata": {},
     "output_type": "execute_result"
    }
   ],
   "source": [
    "DelsysEMG.channelNames"
   ]
  },
  {
   "cell_type": "code",
   "execution_count": 9,
   "id": "8e4e7e32",
   "metadata": {},
   "outputs": [
    {
     "name": "stdout",
     "output_type": "stream",
     "text": [
      "Data Collection Started\n"
     ]
    }
   ],
   "source": [
    "DelsysEMG.startDataCollection()"
   ]
  },
  {
   "cell_type": "code",
   "execution_count": 10,
   "id": "0ba44ea5",
   "metadata": {},
   "outputs": [],
   "source": [
    "DelsysEMG.processData()"
   ]
  },
  {
   "cell_type": "code",
   "execution_count": 11,
   "id": "e802098f",
   "metadata": {},
   "outputs": [],
   "source": [
    "fileName = \"testEMGSave.npy\"\n",
    "DelsysEMG.savingEMGData(fileName)"
   ]
  },
  {
   "cell_type": "code",
   "execution_count": 12,
   "id": "53a6ac10",
   "metadata": {},
   "outputs": [
    {
     "name": "stdout",
     "output_type": "stream",
     "text": [
      "Data Collection Complete\n"
     ]
    }
   ],
   "source": [
    "DelsysEMG.stopDataCollection()"
   ]
  },
  {
   "cell_type": "code",
   "execution_count": 18,
   "id": "9fee7dea",
   "metadata": {},
   "outputs": [],
   "source": [
    "data = DelsysEMG.DataHandler.allcollectiondata"
   ]
  },
  {
   "cell_type": "code",
   "execution_count": 32,
   "id": "5a8d4af6",
   "metadata": {},
   "outputs": [
    {
     "data": {
      "text/plain": [
       "55900"
      ]
     },
     "execution_count": 32,
     "metadata": {},
     "output_type": "execute_result"
    }
   ],
   "source": [
    "len(data[4])"
   ]
  },
  {
   "cell_type": "code",
   "execution_count": 40,
   "id": "af8a3405",
   "metadata": {},
   "outputs": [],
   "source": [
    "np.save('samplesPerFrame(GyroZ).npy', DelsysEMG.samplesPerFrame[3])"
   ]
  },
  {
   "cell_type": "code",
   "execution_count": null,
   "id": "a65451e8",
   "metadata": {},
   "outputs": [],
   "source": [
    "EMGData = DelsysEMG.data"
   ]
  },
  {
   "cell_type": "code",
   "execution_count": null,
   "id": "46ec9dee",
   "metadata": {},
   "outputs": [],
   "source": [
    "print(DelsysEMG.channelNames)"
   ]
  },
  {
   "cell_type": "code",
   "execution_count": null,
   "id": "99c5280c",
   "metadata": {},
   "outputs": [],
   "source": [
    "plt.plot(EMGData[2][0])"
   ]
  },
  {
   "cell_type": "code",
   "execution_count": null,
   "id": "25a24ec6",
   "metadata": {},
   "outputs": [],
   "source": [
    "averageEMG = []\n",
    "\n",
    "for i in range(len(DelsysEMG.channelNames)):\n",
    "    if \"EMG\" in DelsysEMG.channelNames[i]:\n",
    "        avg_data = np.average(EMGData[0][i])\n",
    "        averageEMG.append(avg_data)"
   ]
  },
  {
   "cell_type": "code",
   "execution_count": null,
   "id": "4b4519f7",
   "metadata": {},
   "outputs": [],
   "source": [
    "averageEMG"
   ]
  },
  {
   "cell_type": "code",
   "execution_count": null,
   "id": "0d96c3fb",
   "metadata": {},
   "outputs": [],
   "source": [
    "DelsysEMG.TrigBase.ResetPipeline()"
   ]
  },
  {
   "cell_type": "markdown",
   "id": "af6a6c3b",
   "metadata": {},
   "source": [
    "Data Analysis"
   ]
  },
  {
   "cell_type": "code",
   "execution_count": null,
   "id": "43e691ba",
   "metadata": {},
   "outputs": [],
   "source": [
    "import numpy as np\n",
    "import matplotlib.pyplot as plt"
   ]
  },
  {
   "cell_type": "code",
   "execution_count": null,
   "id": "322075e9",
   "metadata": {},
   "outputs": [],
   "source": [
    "delsysData = np.load('Delsys_Data.npy', allow_pickle=True)\n"
   ]
  },
  {
   "cell_type": "code",
   "execution_count": null,
   "id": "1a689c14",
   "metadata": {},
   "outputs": [],
   "source": [
    "averageEMG = []\n",
    "for i in range(len(delsysData)):\n",
    "    avg_data = np.average(delsysData[i][0])\n",
    "    averageEMG.append(avg_data)\n",
    "\n",
    "averageEMG"
   ]
  },
  {
   "cell_type": "code",
   "execution_count": null,
   "id": "bd64bb74",
   "metadata": {},
   "outputs": [],
   "source": [
    "','.join(map(str, averageEMG))"
   ]
  },
  {
   "cell_type": "code",
   "execution_count": null,
   "id": "804eb58b",
   "metadata": {},
   "outputs": [],
   "source": [
    "EMG = []\n",
    "\n",
    "for i in range(len(delsysData)):\n",
    "    EMG.append(np.average(delsysData[i][0]))"
   ]
  },
  {
   "cell_type": "code",
   "execution_count": null,
   "id": "71d5affe",
   "metadata": {},
   "outputs": [],
   "source": [
    "sendEMG = ','.join(map(str, EMG))\n",
    "sendEMG"
   ]
  },
  {
   "cell_type": "code",
   "execution_count": null,
   "id": "466c5105",
   "metadata": {},
   "outputs": [],
   "source": [
    "myDict = {}\n",
    "myDict[12345] = [12345]"
   ]
  },
  {
   "cell_type": "code",
   "execution_count": null,
   "id": "b989d7db",
   "metadata": {},
   "outputs": [],
   "source": [
    "myDict[12345].append(\"Muscle\")"
   ]
  },
  {
   "cell_type": "code",
   "execution_count": null,
   "id": "fdc458bc",
   "metadata": {},
   "outputs": [],
   "source": [
    "myDict[12345][1]"
   ]
  },
  {
   "cell_type": "code",
   "execution_count": null,
   "id": "24d9393a",
   "metadata": {},
   "outputs": [],
   "source": [
    "muscle = input('Input')"
   ]
  }
 ],
 "metadata": {
  "kernelspec": {
   "display_name": "Python 3 (ipykernel)",
   "language": "python",
   "name": "python3"
  },
  "language_info": {
   "codemirror_mode": {
    "name": "ipython",
    "version": 3
   },
   "file_extension": ".py",
   "mimetype": "text/x-python",
   "name": "python",
   "nbconvert_exporter": "python",
   "pygments_lexer": "ipython3",
   "version": "3.8.1"
  }
 },
 "nbformat": 4,
 "nbformat_minor": 5
}
