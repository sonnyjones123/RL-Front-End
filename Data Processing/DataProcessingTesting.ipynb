{
 "cells": [
  {
   "cell_type": "code",
   "execution_count": 1,
   "metadata": {},
   "outputs": [],
   "source": [
    "import h5py\n",
    "import matplotlib.pyplot as plt\n",
    "import time\n",
    "from EMGProcessing import *"
   ]
  },
  {
   "cell_type": "code",
   "execution_count": 2,
   "metadata": {},
   "outputs": [],
   "source": [
    "h5pyFile = h5py.File(\"C:/Users/sonny/Box/NeuroRoboticsLab/NERVES Lab/Project Groups/ML Gait/Experimental Data/Mar13WalkingTrials(Chimdi)/Trial 1.h5\")"
   ]
  },
  {
   "cell_type": "code",
   "execution_count": 3,
   "metadata": {},
   "outputs": [
    {
     "data": {
      "text/plain": [
       "'TAL'"
      ]
     },
     "execution_count": 3,
     "metadata": {},
     "output_type": "execute_result"
    }
   ],
   "source": [
    "h5pyFile['Sensor 1'].attrs['Attachment']"
   ]
  },
  {
   "cell_type": "code",
   "execution_count": 4,
   "metadata": {},
   "outputs": [],
   "source": [
    "sampleRate = h5pyFile['Sensor 1']['EMG 1'].attrs['SampleRate']"
   ]
  },
  {
   "cell_type": "code",
   "execution_count": null,
   "metadata": {},
   "outputs": [],
   "source": [
    "for sensor in h5pyFile.keys():\n",
    "    try:\n",
    "        attachment = h5pyFile[sensor].attrs['Attachment']\n",
    "    except:\n",
    "        attachment = h5pyFile[sensor].attrs['Foot']\n",
    "    print(f\"{sensor} : {attachment}\")"
   ]
  },
  {
   "cell_type": "code",
   "execution_count": 6,
   "metadata": {},
   "outputs": [
    {
     "name": "stdout",
     "output_type": "stream",
     "text": [
      "Time Elapsed: 0.0016703000000006796\n"
     ]
    }
   ],
   "source": [
    "tic = time.perf_counter()\n",
    "# plt.plot(movingAverage(h5pyFile['Sensor 1']['EMG 1'][()][10000:10400], 200))\n",
    "MAVsignal = movingAverage(h5pyFile['Sensor 1']['EMG 1'][()][10000:10600], 100)\n",
    "toc = time.perf_counter()\n",
    "print(f\"Time Elapsed: {toc-tic}\")"
   ]
  },
  {
   "cell_type": "code",
   "execution_count": 7,
   "metadata": {},
   "outputs": [
    {
     "name": "stdout",
     "output_type": "stream",
     "text": [
      "Time Elapsed: 0.0024414999999997633\n"
     ]
    }
   ],
   "source": [
    "tic = time.perf_counter()\n",
    "# plt.plot(movingAverage(h5pyFile['Sensor 1']['EMG 1'][()][10000:10400], 200))\n",
    "MAVsignal = MAV(h5pyFile['Sensor 1']['EMG 1'][()][10000:10600], 100)\n",
    "toc = time.perf_counter()\n",
    "print(f\"Time Elapsed: {toc-tic}\")"
   ]
  },
  {
   "cell_type": "code",
   "execution_count": 8,
   "metadata": {},
   "outputs": [],
   "source": [
    "h5pyFile.close()"
   ]
  }
 ],
 "metadata": {
  "kernelspec": {
   "display_name": "Python 3",
   "language": "python",
   "name": "python3"
  },
  "language_info": {
   "codemirror_mode": {
    "name": "ipython",
    "version": 3
   },
   "file_extension": ".py",
   "mimetype": "text/x-python",
   "name": "python",
   "nbconvert_exporter": "python",
   "pygments_lexer": "ipython3",
   "version": "3.9.5"
  }
 },
 "nbformat": 4,
 "nbformat_minor": 2
}
